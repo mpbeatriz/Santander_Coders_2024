{
 "cells": [
  {
   "cell_type": "markdown",
   "metadata": {},
   "source": [
    "Produto mais vendido no arquivo\n",
    "\n",
    "Comumente precisamos lidar com informações que já foram armazenadas em outros locais antes da execução do programa, como uma planilha do excel, de forma a fazer algum processamento com estas informações. Digamos, por exemplo, que uma empresa tenha armazenado dados sobre as vendas dos últimos 5 anos e queira saber a média anual dessas vendas. Podemos acessar estes dados por meio da leitura de arquivos no python para, posteriormente, realizar o cálculo da média. Similarmente, também podemos salvar informações em arquivos no Python para acesso futuro. Utilizando o mesmo exemplo do histórico de vendas, podemos realizar os cálculos de média anual e salvá-lo em um arquivo para enviar para o gerente de vendas.\n",
    "\n",
    "Sabendo disso, crie uma função produto_mais_vendido() para ler um arquivo csv com as vendas de uma loja e retornar o nome do produto mais vendido (em termos de quantidades de vendas) conforme registrado no arquivo. A função receberá diretamente a string lida de um arquivo csv que usa \", \" como separador. No arquivo, temos as seguintes colunas: data, produto, quantidade, valor."
   ]
  },
  {
   "cell_type": "code",
   "execution_count": 139,
   "metadata": {},
   "outputs": [],
   "source": [
    "import csv\n",
    "\n",
    "def produto_mais_vendido(vendas):\n",
    "    vendas = vendas.split('\\n')[1:]\n",
    "    itens = {}\n",
    "    for linha in vendas:\n",
    "        l2 = linha.split(',')\n",
    "        #print(l2)\n",
    "        itens[l2[1]] = int(l2[2])\n",
    "    #print(itens)\n",
    "    final = sorted(itens, key=itens.get, reverse=True)\n",
    "    return final[0]\n",
    "    \n",
    "        \n",
    "        \n",
    "   "
   ]
  },
  {
   "cell_type": "code",
   "execution_count": 140,
   "metadata": {},
   "outputs": [
    {
     "data": {
      "text/plain": [
       "' prato'"
      ]
     },
     "execution_count": 140,
     "metadata": {},
     "output_type": "execute_result"
    }
   ],
   "source": [
    "produto_mais_vendido(\"data, produto, quantidade, valor\\n20/10/2022, prato, 15, 20.00\\n19/20/2022, copo, 5, 5\\n07/07/2022, lampada, 3, 68.90\")"
   ]
  },
  {
   "cell_type": "markdown",
   "metadata": {},
   "source": [
    "Paridade de números por funções lambda\n",
    "\n",
    "Em programação, temos que pensar não apenas na implementação do código propriamente dita para execução correta da tarefa desejada, como também na melhor forma de realizar esta implementação. Com isso, paradigmas de programação foram criados para auxiliar o programador a pensar diferente.\n",
    "\n",
    "Um desses paradigmas é a programação funcional, cujo objetivo é aumentar o determinismo do programa de forma que, caso o programa seja escalável e se torne muito grande, os desenvolvedores não percam o controle do código. Uma forma de fazer programação funcional é por meio de funções lambdas, também conhecidas como \"funções anônimas\", tendo esse nome porque não precisam ser declaradas com um nome.\n",
    "\n",
    "Sabendo disso, crie uma função div2() que recebe uma lista numérica e utiliza uma função lambda para retornar uma lista apenas com elementos da lista original que sejam divisíveis por 2.\n",
    "\n",
    "OBS: em um cenário real, a funçãodiv2() seria utilizada para outras funcionalidades também além da utilização da lambda, de forma a melhorar o determinismo do código."
   ]
  },
  {
   "cell_type": "code",
   "execution_count": 4,
   "metadata": {},
   "outputs": [],
   "source": [
    "def div2(listaA):\n",
    "\tlista2 = (list(filter(lambda x: x % 2 == 0, listaA)))\n",
    "\treturn lista2"
   ]
  },
  {
   "cell_type": "code",
   "execution_count": 5,
   "metadata": {},
   "outputs": [
    {
     "data": {
      "text/plain": [
       "[2, 4, 66, 98]"
      ]
     },
     "execution_count": 5,
     "metadata": {},
     "output_type": "execute_result"
    }
   ],
   "source": [
    "div2([1,2,3,4,5,66,87,98])"
   ]
  },
  {
   "cell_type": "markdown",
   "metadata": {},
   "source": [
    "MapReduce para cálculo de soma dos quadrados\n",
    "\n",
    "Em programação, temos que pensar não apenas na implementação do código propriamente dita para execução correta da tarefa desejada, como também na melhor forma de realizar esta implementação. Com isso, paradigmas de programação foram criados para auxiliar o programador a pensar diferente.\n",
    "\n",
    "Um desses paradigmas é o uso de funções de alta ordem, o que permite que realizemos diversas operações em coleções (listas, tuplas, arrays, etc) sem o uso de loops explicitamente.\n",
    "\n",
    "Um dos usos mais comuns é o uso de funções reduce, responsáveis por acumular uma operação ao longo de uma coleção. Essa função é muito utilizada principalmente em ambientes big data juntamente com a função map.\n",
    "\n",
    "Sabendo disso, crie uma função ger_reduce() que recebe uma lista numérica, e retorna a soma dos quadrados destes números.\n",
    "\n",
    "Obs.: lembre-se que, em Python, devemos importar a função reduce do módulo functools!"
   ]
  },
  {
   "cell_type": "code",
   "execution_count": 2,
   "metadata": {},
   "outputs": [],
   "source": [
    "from functools import reduce\n",
    "def ger_reduce(dictA):\n",
    "\tlista_quadrado = list(map(lambda x: x**2, dictA))\n",
    "\tlista_soma = reduce(lambda x,y: x + y, lista_quadrado)\n",
    "\treturn lista_soma"
   ]
  },
  {
   "cell_type": "code",
   "execution_count": 3,
   "metadata": {},
   "outputs": [
    {
     "data": {
      "text/plain": [
       "120"
      ]
     },
     "execution_count": 3,
     "metadata": {},
     "output_type": "execute_result"
    }
   ],
   "source": [
    "ger_reduce([2,4,6,8])"
   ]
  },
  {
   "cell_type": "markdown",
   "metadata": {},
   "source": [
    "Mudança do delimitador do csv\n",
    "\n",
    "Comumente precisamos lidar com informações que já foram armazenadas em outros locais antes da execução do programa, como uma planilha do excel, de forma a fazer algum processamento com estas informações. Digamos, por exemplo, que uma empresa tenha armazenado dados sobre as vendas dos últimos 5 anos e queira saber a média anual dessas vendas, podemos acessar estes dados por meio da leitura de arquivos no python para, posteriormente, realizar o cálculo da média. Similarmente, também podemos salvar informações em arquivos no Python para acesso futuro. Utilizando o mesmo exemplo do histórico de vendas, podemos realizar os cálculos de média anual e salvá-lo em um arquivo para enviar para o gerente de vendas.\n",
    "\n",
    "Sabendo disso, supondo que uma empresa armazenou seu histórico de vendas como um arquivo csv usando \", \" como delimitador, e agora deseje salvar um novo arquivo csv cujos valores sehjam separados por \"\\t\". Faça uma funçãoconverte_sep() que receba uma string que contenha o conteúdo original do csv e retorna a string do arquivo csv com o novo separador."
   ]
  },
  {
   "cell_type": "code",
   "execution_count": 50,
   "metadata": {},
   "outputs": [],
   "source": [
    "def converte_sep(valores):\n",
    "\treturn valores.replace(\", \", \"\\t\")\n",
    "\t"
   ]
  },
  {
   "cell_type": "code",
   "execution_count": 51,
   "metadata": {},
   "outputs": [
    {
     "data": {
      "text/plain": [
       "'data\\tproduto\\tquantidade\\tvalor\\tvalor_unitario\\n20/10/2022\\tventilador\\t1\\t120.00\\t120.00\\n19/20/2022\\tcadeira\\t1\\t335.55\\t335.55\\n07/07/2022\\tlampada\\t3\\t68.90\\t22.96'"
      ]
     },
     "execution_count": 51,
     "metadata": {},
     "output_type": "execute_result"
    }
   ],
   "source": [
    "converte_sep(\"data, produto, quantidade, valor, valor_unitario\\n20/10/2022, ventilador, 1, 120.00, 120.00\\n19/20/2022, cadeira, 1, 335.55, 335.55\\n07/07/2022, lampada, 3, 68.90, 22.96\")"
   ]
  },
  {
   "cell_type": "markdown",
   "metadata": {},
   "source": [
    "Utilizando função lambda para calcular quadrado de números\n",
    "\n",
    "Em programação, temos que pensar não apenas na implementação do código propriamente dita para execução correta da tarefa desejada, como também na melhor forma de realizar esta implementação. Com isso, paradigmas de programação foram criados para auxiliar o programador a pensar diferente.\n",
    "\n",
    "Um desses paradigmas é a programação funcional, cujo objetivo é aumentar o determinismo do programa de forma que, caso o programa seja escalável e se torne muito grande, os desenvolvedores não percam o controle do código. Uma forma de fazer programação funcional é por meio de funções lambdas, também conhecidas como \"funções anônimas\", tendo esse nome porque não precisam ser declaradas com um nome.\n",
    "\n",
    "Sabendo disso, crie uma função calcula_quadrado() que recebe uma lista e retorna os elementos desta lista ao quadrado, utilizando função lambda.\n",
    "\n",
    "OBS: em um cenário real, a função calcula_quadrado() seria utilizada para outras funcionalidades também além da utilização da lambda, de forma a melhorar o determinismo do código.\n",
    "\n",
    "OBS2: recomendável uso da função map."
   ]
  },
  {
   "cell_type": "code",
   "execution_count": null,
   "metadata": {},
   "outputs": [],
   "source": [
    "def calcula_quadrado(listaA):\n",
    "\treturn list(map(lambda x: x**2, listaA))"
   ]
  },
  {
   "cell_type": "markdown",
   "metadata": {},
   "source": [
    "Dados tabulares como lista de listas\n",
    "\n",
    "Em python, podemos trabalhar com dados tabulares em uma estrutura organizada na forma de lista de listas.\n",
    "\n",
    "Sabendo disso, crie uma função min_max_temperatura() que receba uma lista listas, cada uma com dois elementos: uma data, e uma temperatura. A função deve retornar uma lista com dois elementos: a data de temperatura máxima, e a data de temperatura mínima, nesta ordem."
   ]
  },
  {
   "cell_type": "code",
   "execution_count": 55,
   "metadata": {},
   "outputs": [],
   "source": [
    "# corrigido\n",
    "\n",
    "def min_max_temperatura(temperaturas):\n",
    "\ttemperaturas.sort(key=lambda x:x[1])\n",
    "\treturn [temperaturas[len(temperaturas)-1]]"
   ]
  },
  {
   "cell_type": "code",
   "execution_count": 56,
   "metadata": {},
   "outputs": [
    {
     "data": {
      "text/plain": [
       "[['27/11/2022', 31]]"
      ]
     },
     "execution_count": 56,
     "metadata": {},
     "output_type": "execute_result"
    }
   ],
   "source": [
    "min_max_temperatura([[\"25/11/2022\", 30], [\"26/11/2022\", 27], [\"27/11/2022\", 31],[\"28/11/2022\", 29], [\"29/11/2022\", 20]])"
   ]
  },
  {
   "cell_type": "markdown",
   "metadata": {},
   "source": [
    "Subtraindo elementos usando funções de alta ordem\n",
    "\n",
    "Em programação, temos que pensar não apenas na implementação do código propriamente dita para execução correta da tarefa desejada, como também na melhor forma de realizar esta implementação. Com isso, paradigmas de programação foram criados para auxiliar o programador a pensar diferente.\n",
    "\n",
    "Um desses paradigmas é o uso de funções de alta ordem, o que permite que realizemos diversas operações em coleções (listas, tuplas, arrays, etc) sem o uso de loops explicitamente.\n",
    "\n",
    "Um dos usos mais comuns é o uso de funções reduce, responsáveis por acumular uma operação ao longo de uma coleção. Sabendo disso, implemente uma função reduceSub() que recebe uma lista, e então faz uso do reduce para realizar a subtração dos números da lista com base no valor inicial 3."
   ]
  },
  {
   "cell_type": "code",
   "execution_count": 24,
   "metadata": {},
   "outputs": [],
   "source": [
    "from functools import reduce\n",
    "\n",
    "def reduceSub(lista):\n",
    "\tdef sub(x,y):\n",
    "\t\treturn x-y\n",
    "\t\n",
    "\treturn reduce(sub, lista, 3)\n",
    "\t"
   ]
  },
  {
   "cell_type": "code",
   "execution_count": 25,
   "metadata": {},
   "outputs": [
    {
     "data": {
      "text/plain": [
       "-22"
      ]
     },
     "execution_count": 25,
     "metadata": {},
     "output_type": "execute_result"
    }
   ],
   "source": [
    "reduceSub([1,3,5,7,9])"
   ]
  },
  {
   "cell_type": "code",
   "execution_count": 26,
   "metadata": {},
   "outputs": [
    {
     "data": {
      "text/plain": [
       "-30"
      ]
     },
     "execution_count": 26,
     "metadata": {},
     "output_type": "execute_result"
    }
   ],
   "source": [
    "reduceSub([\n",
    "   9,\n",
    "   10,\n",
    "   10,\n",
    "   3,\n",
    "   1\n",
    " ])"
   ]
  }
 ],
 "metadata": {
  "kernelspec": {
   "display_name": "Python 3",
   "language": "python",
   "name": "python3"
  },
  "language_info": {
   "codemirror_mode": {
    "name": "ipython",
    "version": 3
   },
   "file_extension": ".py",
   "mimetype": "text/x-python",
   "name": "python",
   "nbconvert_exporter": "python",
   "pygments_lexer": "ipython3",
   "version": "3.12.2"
  }
 },
 "nbformat": 4,
 "nbformat_minor": 2
}
