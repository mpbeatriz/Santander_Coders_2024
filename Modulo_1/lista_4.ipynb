{
 "cells": [
  {
   "cell_type": "markdown",
   "metadata": {},
   "source": [
    "Validação por blocos try except - parte 6\n",
    "\n",
    "Quando implementamos um software, precisamos pensar nas diferentes situações que podem ocorrer nele, inclusive possíveis falhas. Uma falha que não seja detectada previamente pode resultar em uma interrupção abrupta do programa e esta pode ocorrer de n formas.\n",
    "\n",
    "Por exemplo, suponhamos que um programa necessite de arquitos externos para ser executado e um desses arquivos tenha sido movido para outro diretório, porém, o programa esteja fazendo a leitura do arquivo no diretório antigo. Quando o programa for executado, ele não encontrará o arquivo e sua execução pode ser interrompida. Um outro exemplo são operações matemáticas não permitidas, como uma divisão por zero.\n",
    "\n",
    "Para evitar isso, utilizamos blocos try-except afim de tratar possíveis erros e evitar quebra do programa. Um erro comum de ocorrer é alguma variável do programa estar vazia em um dado momento quando não deveria estar. Sabendo disso, faça um programa que lance uma exceção TypeError caso uma variável seja None."
   ]
  },
  {
   "cell_type": "code",
   "execution_count": null,
   "metadata": {},
   "outputs": [],
   "source": [
    "def valida_variavel():\n",
    "\ta = None\n",
    "\tif a is None:\n",
    "\t\traise TypeError(\"Variável irregular!\")"
   ]
  },
  {
   "cell_type": "markdown",
   "metadata": {},
   "source": [
    "Validação por blocos try except - parte 5\n",
    "\n",
    "Quando implementamos um software, precisamos pensar nas diferentes situações que podem ocorrer nele, inclusive possíveis falhas. Uma falha que não seja detectada previamente pode resultar em uma interrupção abrupta do programa e esta pode ocorrer de diferentes formas.\n",
    "\n",
    "Por exemplo, suponhamos que um programa necessite de arquitos externos para ser executado e um desses arquivos tenha sido movido para outro diretório, porém, o programa esteja fazendo a leitura do arquivo no diretório antigo. Quando o programa for executado, ele não encontrará o arquivo e sua execução pode ser interrompida. Um outro exemplo são operações matemáticas não permitidas, como uma divisão por zero.\n",
    "\n",
    "Para evitar isso, utilizamos blocos try-except a fim de tratar possíveis erros e evitar a quebra do programa. Podemos utilizar esses blocos juntamente também de estruturas if-else. Sabendo disso, crie uma função verifica_extensao() que recebe um caminho de um arquivo a ser lido por um programa e valide a extensão deste arquivo. Será considerada uma extensão válida os arquivos nos formatos .jpg, .jpeg e .png, os demais deverão lançar uma exceção Exception(\"Formato inválido\")."
   ]
  },
  {
   "cell_type": "code",
   "execution_count": null,
   "metadata": {},
   "outputs": [],
   "source": [
    "def verifica_extensao(path):\n",
    "\text = int(\"Digite a extensão do arquivo (com '.'): \")\n",
    "\tvalidas = [\".jpeg\", \".jpg\", \".png\"]\n",
    "\tif ext not in validas:\n",
    "\t\traise Exception(\"Formato inválido\")"
   ]
  },
  {
   "cell_type": "markdown",
   "metadata": {},
   "source": [
    "Validação por blocos try except - parte 4\n",
    "\n",
    "Quando implementamos um software, precisamos pensar nas diferentes situações que podem ocorrer nele, inclusive possíveis falhas. Uma falha que não seja detectada previamente pode resultar em uma interrupção abrupta do programa e esta pode ocorrer de diferentes formas.\n",
    "\n",
    "Por exemplo, suponhamos que um programa necessite de arquitos externos para ser executado e um desses arquivos tenha sido movido para outro diretório, porém, o programa esteja fazendo a leitura do arquivo no diretório antigo. Quando o programa for executado, ele não encontrará o arquivo e sua execução pode ser interrompida. Um outro exemplo são operações matemáticas não permitidas, como uma divisão por zero.\n",
    "\n",
    "Para evitar isso, utilizamos blocos try-except a fim de tratar possíveis erros e evitar a quebra do programa. Podemos utilizar esses blocos juntamente também de estruturas if-else. Sabendo disso, crie uma função verifica_numero(x1) que recebe um número e, caso este número não seja positivo, retorne uma exceção de tipo Exception(\"Número deverá ser maior que zero\")."
   ]
  },
  {
   "cell_type": "code",
   "execution_count": null,
   "metadata": {},
   "outputs": [],
   "source": [
    "def verifica_numero(x1):\n",
    "\tif x1 < 0:\n",
    "\t\traise Exception(\"Número deverá ser maior que zero.\")"
   ]
  },
  {
   "cell_type": "markdown",
   "metadata": {},
   "source": [
    "Uso de Arquivos JSON - parte 2\n",
    "\n",
    "No python, principalmente em aplicações web, é muito comum utilizarmos o formato JSON. Essa linguagem possui sintaxe semelhante a um dicionário e torna o entendimento do arquivo legível para humanos.\n",
    "\n",
    "Em um arquivo JSON, podemos ter estruturas que variam desde estruturas semelhantes a dicionários simples como dicionários compostos e diferentes estruturas agregadas (listas e tuplas, por exemplo).\n",
    "\n",
    "Sabendo disso, crie uma função que recebe uma lista de chaves, uma lista de valores (respectivamente) e cria um json a partir dessas listas. A função deverá retornar uma string que representa o json criado."
   ]
  },
  {
   "cell_type": "code",
   "execution_count": 8,
   "metadata": {},
   "outputs": [],
   "source": [
    "import json\n",
    "\n",
    "def cria_arquivo_json(chaves, valores):\n",
    "\tdicio = (dict(zip(chaves,valores)))\n",
    "\treturn json.dumps(dicio)"
   ]
  },
  {
   "cell_type": "code",
   "execution_count": 9,
   "metadata": {},
   "outputs": [
    {
     "data": {
      "text/plain": [
       "'{\"cinco\": 5, \"seis\": 6}'"
      ]
     },
     "execution_count": 9,
     "metadata": {},
     "output_type": "execute_result"
    }
   ],
   "source": [
    "cria_arquivo_json([\"cinco\", \"seis\"], [5, 6])"
   ]
  },
  {
   "cell_type": "markdown",
   "metadata": {},
   "source": [
    "Validação por blocos try except - parte 2\n",
    "\n",
    "Quando implementamos um software, precisamos pensar nas diferentes situações que podem ocorrer nele, inclusive possíveis falhas. Uma falha que não seja detectada previamente pode resultar em uma interrupção abrupta do programa e esta pode ocorrer de diferentes formas.\n",
    "\n",
    "Por exemplo, suponhamos que um programa necessite de arquitos externos para ser executado e um desses arquivos tenha sido movido para outro diretório, porém, o programa esteja fazendo a leitura do arquivo no diretório antigo. Quando o programa for executado, ele não encontrará o arquivo e sua execução pode ser interrompida. Um outro exemplo são operações matemáticas não permitidas, como uma divisão por zero.\n",
    "\n",
    "Para evitar isso, utilizamos blocos try-except a fim de tratar possíveis erros e evitar a quebra do programa. Sabendo disso, implemente a função divide_dois_numeros(), que recebe dois números x e y e retorna a divisão do número x por y. Para garantir o uso correto, adicione um bloco try-except nesta função de forma que, caso y seja igual a zero, acione uma cláusula except ZeroDivisionError, além de uma segunda cláusula except para caso a função seja chamada sem um dos dois parâmetros obrigatórios (variáveis x e y), subindo um erro do tipo adequado (alguma built-in Exception) caso algum dos argumentos não seja passado."
   ]
  },
  {
   "cell_type": "code",
   "execution_count": 2,
   "metadata": {},
   "outputs": [
    {
     "name": "stdout",
     "output_type": "stream",
     "text": [
      "Apenas um parâmetro foi passado\n"
     ]
    }
   ],
   "source": [
    "\n",
    "def divide_dois_numeros(x,y):\n",
    "\treturn(x/y)\n",
    "    \n",
    "try:\n",
    "\td = divide_dois_numeros(3)\n",
    "except ZeroDivisionError:\n",
    "\tprint(\"Não é possível dividir por zero!\")\n",
    "except Exception:\n",
    "\tprint(\"Apenas um parâmetro foi passado\")"
   ]
  },
  {
   "cell_type": "markdown",
   "metadata": {},
   "source": [
    "Validação por blocos try except - parte 3\n",
    "\n",
    "Quando implementamos um software, precisamos pensar nas diferentes situações que podem ocorrer nele, inclusive possíveis falhas. Uma falha que não seja detectada previamente pode resultar em uma interrupção abrupta do programa e esta pode ocorrer de diferentes formas.\n",
    "\n",
    "Por exemplo, suponhamos que um programa necessite de arquitos externos para ser executado e um desses arquivos tenha sido movido para outro diretório, porém, o programa esteja fazendo a leitura do arquivo no diretório antigo. Quando o programa for executado, ele não encontrará o arquivo e sua execução pode ser interrompida. Um outro exemplo são operações matemáticas não permitidas, como uma divisão por zero.\n",
    "\n",
    "Para evitar isso, utilizamos blocos try-except a fim de tratar possíveis erros e evitar a quebra do programa. Podemos utilizar esses blocos juntamente também de estruturas if-else. Sabendo disso, crie uma função verifica_numero(x1) que recebe um número e, caso este número não seja de tipo int, retorne uma exceção de tipo TypeError(\"Apenas números inteiros permitidos. Digite novamente\")."
   ]
  },
  {
   "cell_type": "code",
   "execution_count": null,
   "metadata": {},
   "outputs": [],
   "source": [
    "def verifica_numero(x1):\n",
    "\tif not isinstance(x1, int):\n",
    "\t\traise TypeError(\"Apenas números inteiros permitidos. Digite novamente\")"
   ]
  },
  {
   "cell_type": "markdown",
   "metadata": {},
   "source": [
    "Validação por blocos try except - parte 1\n",
    "\n",
    "Quando implementamos um software, precisamos pensar nas diferentes situações que podem ocorrer nele, inclusive possíveis falhas. Uma falha que não seja detectada previamente pode resultar em uma interrupção abrupta do programa e esta pode ocorrer de diferentes formas.\n",
    "\n",
    "Por exemplo, suponhamos que um programa necessite de arquitos externos para ser executado e um desses arquivos tenha sido movido para outro diretório, porém, o programa esteja fazendo a leitura do arquivo no diretório antigo. Quando o programa for executado, ele não encontrará o arquivo e sua execução pode ser interrompida. Um outro exemplo são operações matemáticas não permitidas, como uma divisão por zero.\n",
    "\n",
    "Para evitar isso, utilizamos blocos try-except a fim de tratar possíveis erros e evitar a quebra do programa. Sabendo disso, implemente a função divide_dois_numeros(), que recebe dois números x e y e retorna a divisão do número x por y. Para garantir o uso correto, adicione um bloco try-except nesta função de forma que, caso y seja igual a zero, acione uma cláusula except ZeroDivisionError."
   ]
  },
  {
   "cell_type": "code",
   "execution_count": 3,
   "metadata": {},
   "outputs": [
    {
     "name": "stdout",
     "output_type": "stream",
     "text": [
      "Não se divide por zero\n"
     ]
    }
   ],
   "source": [
    "def divide_dois_numeros(x,y):\n",
    "\treturn x/y\n",
    "\t\n",
    "try:\n",
    "\tdivide_dois_numeros(3,0)\n",
    "except ZeroDivisionError:\n",
    "\tprint(\"Não se divide por zero\")"
   ]
  },
  {
   "cell_type": "markdown",
   "metadata": {},
   "source": [
    "Uso de Arquivos JSON - parte 1\n",
    "\n",
    "No python, principalmente em aplicações web, é muito comum utilizarmos o formato JSON. Essa linguagem possui sintaxe semelhante a um dicionário e torna o entendimento do arquivo legível para humanos.\n",
    "\n",
    "Em um arquivo JSON, podemos ter estruturas que variam desde estruturas semelhantes a dicionários simples como dicionários compostos e diferentes estruturas agregadas (listas e tuplas, por exemplo).\n",
    "\n",
    "Sabendo disso, crie a função converte_para_json() que recebe um JSON na forma de string como parâmetro e internamente converte esta string para um objeto do tipo JSON ou dicionário. Adicionalmente, a função recebe um segundo argumento que é alguma das chaves do JSON/dicionário. No fim, a função deve retornar o valor correspondente à chave que foi passada como segundo argumento.\n",
    "\n",
    "Obs.: Importar o módulo json pode ser útil."
   ]
  },
  {
   "cell_type": "code",
   "execution_count": 65,
   "metadata": {},
   "outputs": [],
   "source": [
    "import json\n",
    "\n",
    "def converte_para_json(json_string, chave):\n",
    "\tjson_arq = json.loads(json_string)\n",
    "\t#print(json_arq)\n",
    "\tfor i, (chave, valor) in enumerate(json_arq.items()):\n",
    "\t\tif i == 1:\n",
    "\t\t\treturn valor"
   ]
  },
  {
   "cell_type": "code",
   "execution_count": 66,
   "metadata": {},
   "outputs": [
    {
     "data": {
      "text/plain": [
       "'pombo'"
      ]
     },
     "execution_count": 66,
     "metadata": {},
     "output_type": "execute_result"
    }
   ],
   "source": [
    "converte_para_json('{\"nome\":\"Richarlison\", \"apelido\": \"pombo\"}', 'apelido')"
   ]
  }
 ],
 "metadata": {
  "kernelspec": {
   "display_name": "Python 3",
   "language": "python",
   "name": "python3"
  },
  "language_info": {
   "codemirror_mode": {
    "name": "ipython",
    "version": 3
   },
   "file_extension": ".py",
   "mimetype": "text/x-python",
   "name": "python",
   "nbconvert_exporter": "python",
   "pygments_lexer": "ipython3",
   "version": "3.12.2"
  }
 },
 "nbformat": 4,
 "nbformat_minor": 2
}
