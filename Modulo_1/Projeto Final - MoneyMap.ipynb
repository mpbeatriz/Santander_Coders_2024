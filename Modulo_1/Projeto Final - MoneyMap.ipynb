{
  "cells": [
    {
      "cell_type": "markdown",
      "metadata": {
        "id": "QcN62PrTNuNr"
      },
      "source": [
        "# 💸 Projeto Final | Moneymap"
      ]
    },
    {
      "cell_type": "markdown",
      "source": [
        "### **Descrição do problema**\n",
        "> Foi desenvolvido um sistema para controle financeiro que armazena as movimentações em arquivos nos formatos CSV ou JSON. O sistema permite a leitura, criação, atualização e a exclusão dos registros financeiros. Além disso, é capaz de gerar relatórios para calcular as receitas, despesas e os rendimentos dos investimentos."
      ],
      "metadata": {
        "id": "F5vnYednLeQN"
      }
    },
    {
      "cell_type": "markdown",
      "source": [
        "### **Integrantes**:<a name=\"integrantes\"></a>\n",
        "\n",
        ">\n",
        "- Beatriz Porto\n",
        "- Eduardo Mattana\n",
        "- Michel Camargo\n",
        "- Pedro Lima\n",
        "- Rubens Sousa"
      ],
      "metadata": {
        "id": "Bgqr5TNSze0O"
      }
    },
    {
      "cell_type": "markdown",
      "source": [
        "### Setup"
      ],
      "metadata": {
        "id": "Ox6qW5KwnMpO"
      }
    },
    {
      "cell_type": "code",
      "source": [
        "from datetime import datetime\n",
        "import csv\n",
        "import json\n",
        "dados = {\"1\":\"despesas\",\"2\":\"receitas\",\"3\":\"investimentos\"}"
      ],
      "metadata": {
        "id": "1R0k5vD5Eyb2"
      },
      "execution_count": null,
      "outputs": []
    },
    {
      "cell_type": "markdown",
      "source": [
        "### Funções auxiliares"
      ],
      "metadata": {
        "id": "AQ0t5LHunP_O"
      }
    },
    {
      "cell_type": "code",
      "source": [
        "'''\n",
        "  Função para escrever cada registro por meio do tipo do registro(Despesa,Receita,Investimento).\n",
        "\n",
        "  input: lista de registros do tipo desejado.\n",
        "  output: print dos valores dos registros linha por linha em formato tabular.\n",
        "\n",
        "'''\n",
        "def escreve_registro_tipo(elementos_tipo:list):\n",
        "  for a in elementos_tipo:\n",
        "        id = a[\"id_do_registro\"]\n",
        "        tipo_registro = a['tipo_de_registro']\n",
        "        valor = a['valor_numerico']\n",
        "        data = a['data_do_registro']\n",
        "        print(f\"{id: <5} {tipo_registro: <20} {valor: <10}  {data: <10}\")"
      ],
      "metadata": {
        "id": "dPaKlIChK-yv"
      },
      "execution_count": null,
      "outputs": []
    },
    {
      "cell_type": "code",
      "source": [
        "'''\n",
        "  Função para buscar o indice de um registro dentro de uma lista de registros.\n",
        "\n",
        "  input: dicionário com registros, o tipo do registro e o id do registro.\n",
        "  output: indice do registro.\n",
        "\n",
        "'''\n",
        "def busca_indice_registro(dicionario: dict, tipo_registro: str, id: int) -> int:\n",
        "    lista_registros = dicionario.get(tipo_registro, [])\n",
        "    cont = 0\n",
        "\n",
        "    for registro in lista_registros:\n",
        "        if registro['id_do_registro'] == id:\n",
        "            return cont\n",
        "        cont += 1\n",
        "\n",
        "\n",
        "    return -1\n"
      ],
      "metadata": {
        "id": "An5Y4_VlyQ7k"
      },
      "execution_count": null,
      "outputs": []
    },
    {
      "cell_type": "code",
      "source": [
        "'''\n",
        "  Função para calcular o montante de um investimento.\n",
        "\n",
        "  input: capital, a variação de tempo em dias e uma taxa.\n",
        "  output: o montante calculado.\n",
        "\n",
        "'''\n",
        "def calcula_montante(capital:float, variacao_dias:int,taxa:float)->float:\n",
        "    return capital * (1 + taxa)**variacao_dias"
      ],
      "metadata": {
        "id": "zWrWagA2eiP9"
      },
      "execution_count": null,
      "outputs": []
    },
    {
      "cell_type": "code",
      "source": [
        "'''\n",
        "  Função para alterar o tipo de um registro.\n",
        "\n",
        "  input: registro a ser alterado e o novo tipo.\n",
        "  output: registro com o tipo alterado.\n",
        "\n",
        "'''\n",
        "def atualiza_tipo_registro(registro:dict,novo_tipo:str)->dict:\n",
        "  registro['tipo_de_registro'] = novo_tipo\n",
        "  registro['data_do_registro'] = datetime.now().strftime(\"%d/%m/%y\")\n",
        "  return registro"
      ],
      "metadata": {
        "id": "u3OSYKHwF_I-"
      },
      "execution_count": null,
      "outputs": []
    },
    {
      "cell_type": "code",
      "source": [
        "'''\n",
        "  Função para alterar o valor de um registro.\n",
        "\n",
        "  input: registro a ser alterado e o novo valor.\n",
        "  output: registro com o valor alterado.\n",
        "\n",
        "'''\n",
        "def atualiza_valor_registro(registro:dict,novo_valor:float)->dict:\n",
        "  registro['valor_numerico'] = novo_valor\n",
        "  registro['data_do_registro'] = datetime.now().strftime(\"%d/%m/%y\")\n",
        "  return registro"
      ],
      "metadata": {
        "id": "037qcaRXGBAk"
      },
      "execution_count": null,
      "outputs": []
    },
    {
      "cell_type": "code",
      "source": [
        "'''\n",
        "  Função para permitir que apenas elementos que ainda não existam no dicionário\n",
        "  atual sejam adicionados a ele.\n",
        "\n",
        "  input: dicionário antigo a ser atualizado e novo dicionario com os novos\n",
        "  registros para serem adicionados.\n",
        "  output: validação completa.\n",
        "\n",
        "'''\n",
        "def atualiza_registro_repetido(dicionario_antigo:dict,dicionario_novo:dict)->None:\n",
        "  for key, value in dicionario_novo.items():\n",
        "    if key in dicionario_antigo:\n",
        "        for novo_registro in value:\n",
        "            if novo_registro not in dicionario_antigo[key]:\n",
        "                dicionario_antigo[key].append(novo_registro)\n",
        "    else:\n",
        "      dicionario_antigo[key] = value"
      ],
      "metadata": {
        "id": "GHYC4o2yZNW-"
      },
      "execution_count": null,
      "outputs": []
    },
    {
      "cell_type": "markdown",
      "source": [
        "### Funções Principais"
      ],
      "metadata": {
        "id": "_57asBCq0gLJ"
      }
    },
    {
      "cell_type": "code",
      "source": [
        "'''\n",
        "  Função para acrescentar , de forma manual, novos registros no dicionário de\n",
        "  registros.\n",
        "\n",
        "  input: dicionario desatualizado.\n",
        "  output: dicionario atualizado.\n",
        "\n",
        "'''\n",
        "def adicionar_registro(dict_geral:dict) -> dict:\n",
        "\n",
        "    while True:\n",
        "        tipo = input(\"Tipo (Receita/Despesa/Investimento) ou 0 para sair: \").title()\n",
        "        if tipo == '0':\n",
        "            break\n",
        "        if tipo not in ['Receita', 'Despesa', 'Investimento']:\n",
        "            print(\"O tipo tem que ser Receita, Despesa, Investimento ou 0 para sair.\")\n",
        "            continue\n",
        "\n",
        "        while True:\n",
        "            try:\n",
        "                valor = float(input(\"Valor: \"))\n",
        "                if tipo == 'Despesa' and valor <= 0:\n",
        "                    print(\"O valor de despesas deve ser positivo.\")\n",
        "                else:\n",
        "                    if tipo == 'Despesa':\n",
        "                        valor = -valor\n",
        "                    break\n",
        "            except ValueError:\n",
        "                print(\"Valor inválido.\")\n",
        "\n",
        "        if tipo==\"Despesa\":\n",
        "            dict_geral[\"despesas\"].append({'id_do_registro': len(dict_geral[\"despesas\"])+1,\n",
        "                                           'tipo_de_registro': tipo,\n",
        "                                          'valor_numerico': valor,\n",
        "                                           'data_do_registro': datetime.now().strftime(\"%d/%m/%y\")})\n",
        "        elif tipo==\"Receita\":\n",
        "            dict_geral[\"receitas\"].append({'id_do_registro': len(dict_geral[\"receitas\"])+1,\n",
        "                                           'tipo_de_registro': tipo,\n",
        "                                           'valor_numerico': valor,\n",
        "                                            'data_do_registro': datetime.now().strftime(\"%d/%m/%y\")})\n",
        "\n",
        "        else:\n",
        "            dict_geral[\"investimentos\"].append({'id_do_registro': len(dict_geral[\"investimentos\"])+1,\n",
        "                                                'tipo_de_registro': tipo,\n",
        "                                                'valor_numerico': valor,\n",
        "                                                'data_do_registro': datetime.now().strftime(\"%d/%m/%y\")})\n",
        "\n",
        "\n",
        "    return dict_geral"
      ],
      "metadata": {
        "id": "-7g6tx9_14I6"
      },
      "execution_count": null,
      "outputs": []
    },
    {
      "cell_type": "code",
      "source": [
        "'''\n",
        "  Função para escrever todos os registros e seus  dados em formato tabular.\n",
        "\n",
        "  input: dicionário com todos os registros.\n",
        "  output: print de todos os registros em formato tabular.\n",
        "\n",
        "'''\n",
        "\n",
        "def escreve_registros(dict_geral:dict) -> None:\n",
        "\n",
        "  print(f\"{'ID':<5} {'Tipo de Registro':<20} {'Valor':<10} {'Data_registro': <10}\")\n",
        "  print(\"-\" * 60)\n",
        "  receitas = dict_geral.get(\"receitas\")\n",
        "  despesas= dict_geral.get(\"despesas\")\n",
        "  investimentos= dict_geral.get(\"investimentos\")\n",
        "  escreve_registro_tipo(receitas)\n",
        "  escreve_registro_tipo(despesas)\n",
        "  escreve_registro_tipo(investimentos)\n",
        "  print(\"-\" * 60)\n",
        "\n"
      ],
      "metadata": {
        "id": "DsyKQUr7Bzbp"
      },
      "execution_count": null,
      "outputs": []
    },
    {
      "cell_type": "code",
      "source": [
        "\n",
        "'''\n",
        "  Função para criar o dicionário com os registros por meio da leitura de\n",
        "  um arquivo csv.\n",
        "\n",
        "  input: nome do arquivo a ser lido.\n",
        "  output: dicionário atualizado.\n",
        "\n",
        "'''\n",
        "def coloca_registro_carga_csv(nome_arquivo:str)->dict:\n",
        "\n",
        "  dicionario_registros = {}\n",
        "\n",
        "  with open(nome_arquivo, 'r') as arquivo:\n",
        "\n",
        "    planilha = list(csv.reader(arquivo, delimiter=',', lineterminator='\\n'))\n",
        "\n",
        "    cabecalho = planilha[0]\n",
        "\n",
        "    dicionario_registros[\"despesas\"] = [dict(zip(cabecalho,linha)) for linha in planilha if linha[0]==\"Despesa\"]\n",
        "    dicionario_registros[\"receitas\"] = [dict(zip(cabecalho,linha)) for linha in planilha if linha[0]==\"Receita\"]\n",
        "    dicionario_registros[\"investimentos\"] = [dict(zip(cabecalho,linha)) for linha in planilha if linha[0]==\"Investimento\"]\n",
        "\n",
        "\n",
        "  return dicionario_registros\n"
      ],
      "metadata": {
        "id": "OeqC-KmVHzfA"
      },
      "execution_count": null,
      "outputs": []
    },
    {
      "cell_type": "code",
      "source": [
        "\n",
        "'''\n",
        "  Função para criar o dicionário com os registros por meio da leitura de\n",
        "  um arquivo Json.\n",
        "\n",
        "  input: nome do arquivo a ser lido.\n",
        "  output: dicionário atualizado.\n",
        "\n",
        "'''\n",
        "def coloca_registro_carga_json(nome_arquivo:str)->dict:\n",
        "\n",
        "  arquivo = open(nome_arquivo, 'r')\n",
        "\n",
        "  with open(nome_arquivo, 'r') as arquivo:\n",
        "\n",
        "    dicionario = json.load(arquivo)\n",
        "\n",
        "  return dicionario\n",
        "\n",
        "\n"
      ],
      "metadata": {
        "id": "wcWMVFbuaViI"
      },
      "execution_count": null,
      "outputs": []
    },
    {
      "cell_type": "code",
      "source": [
        "'''\n",
        "  Função para exportar um arquivo Json com os registros.\n",
        "\n",
        "  input: dicionário com resgistros.\n",
        "  output: arquivo Json.\n",
        "\n",
        "'''\n",
        "def exporta_registro_json(dicionario:dict) -> None:\n",
        "\n",
        "  with open('dados.json', 'w') as arquivo:\n",
        "    json.dump(dicionario,arquivo)\n"
      ],
      "metadata": {
        "id": "Ssuc6UoOH7FM"
      },
      "execution_count": null,
      "outputs": []
    },
    {
      "cell_type": "code",
      "source": [
        "'''\n",
        "  Função para exportar um arquivo csv com os registros.\n",
        "\n",
        "  input: dicionário com resgistros.\n",
        "  output: arquivo csv.\n",
        "\n",
        "'''\n",
        "\n",
        "def exporta_registro_csv(dicionario:dict) -> None:\n",
        "\n",
        "  colunas =[\"tipo_de_registro\",\"data_do_registro\",\"id_do_registro\",\"valor_numerico\"]\n",
        "  registros_despesas = dicionario[\"despesas\"]\n",
        "  registros_investimentos = dicionario[\"investimentos\"]\n",
        "  registros_receitas = dicionario[\"receitas\"]\n",
        "  with open('dados.csv', 'w') as arquivo:\n",
        "\n",
        "      escritor_csv = csv.DictWriter(arquivo, fieldnames=colunas)\n",
        "\n",
        "      escritor_csv.writeheader()\n",
        "\n",
        "      escritor_csv.writerows(registros_despesas)\n",
        "      escritor_csv.writerows(registros_investimentos)\n",
        "      escritor_csv.writerows(registros_receitas)"
      ],
      "metadata": {
        "id": "Ovep2NG1lClZ"
      },
      "execution_count": null,
      "outputs": []
    },
    {
      "cell_type": "code",
      "source": [
        "'''\n",
        "  Função atualizar o rendimento de um investimento especificado.\n",
        "\n",
        "  input: dicionário com registros, id do investimento e taxa para cálculo\n",
        "  do montante.\n",
        "  output: dicionário com investimento atualizado.\n",
        "\n",
        "'''\n",
        "\n",
        "def atualizar_rendimento(dicionario:dict,id:int,taxa:float=0.0035)->dict:\n",
        "\n",
        "  lista_investimentos = dicionario[\"investimentos\"]\n",
        "  investimento = {}\n",
        "  for a in lista_investimentos:\n",
        "    if a[\"id_do_registro\"] == id:\n",
        "      investimento = a\n",
        "\n",
        "  capital = investimento['valor_numerico']\n",
        "  data_investimento = datetime.strptime(investimento['data_do_registro'], \"%d/%m/%y\").date()\n",
        "  data_atual = datetime.now().date()\n",
        "  diferenca_data_dias = (data_atual-data_investimento).days\n",
        "  indice = busca_indice_registro(dicionario,\"investimentos\",id)\n",
        "  montante = calcula_montante(capital,diferenca_data_dias,taxa)\n",
        "  investimento[\"valor_numerico\"] = montante\n",
        "  investimento['data_do_registro'] = data_atual.strftime(\"%d/%m/%y\")\n",
        "  dicionario[\"investimentos\"][indice] = investimento\n",
        "\n",
        "\n",
        "  return dicionario"
      ],
      "metadata": {
        "id": "H4CBJYeNq7Bp"
      },
      "execution_count": null,
      "outputs": []
    },
    {
      "cell_type": "code",
      "source": [
        "'''\n",
        "  Função para deletar registro identificado pelo tipo e id.\n",
        "\n",
        "  input:dicionário com registros, id do registro que se deseja excluir,\n",
        "  tipo do registro.\n",
        "  output: realização de exclusão de registro no dicionário.\n",
        "\n",
        "'''\n",
        "def deletar_registro(dicionario:dict,id:int,tipo_registro:str) -> None:\n",
        "  dicionario[tipo_registro].pop(busca_indice_registro(dicionario,tipo_registro,id))\n"
      ],
      "metadata": {
        "id": "BBJLAbOMg1OZ"
      },
      "execution_count": null,
      "outputs": []
    },
    {
      "cell_type": "code",
      "source": [
        "'''\n",
        "  Função para deletar registro identificado pelo tipo e id.\n",
        "\n",
        "  input:dicionário com registros, id do registro que se deseja excluir,\n",
        "  tipo do registro.\n",
        "  output: realização de exclusão de registro no dicionário.\n",
        "\n",
        "'''\n",
        "def busca_registro(dicionario,tipo_registro,id) -> None:\n",
        "  return dicionario[tipo_registro][busca_indice_registro(dicionario,tipo_registro,id)]"
      ],
      "metadata": {
        "id": "yaCRlD---8ac"
      },
      "execution_count": null,
      "outputs": []
    },
    {
      "cell_type": "code",
      "source": [
        "'''\n",
        "  Função para realizar alterações de tipo ou valor de um registro de um dicionário.\n",
        "\n",
        "  input: dicionário com o registro a ser alterado.\n",
        "  output: dicionário com as alterações realizadas.\n",
        "\n",
        "'''\n",
        "\n",
        "def atualiza_dicionario(dicionario:dict) -> None:\n",
        "  print(\"Escolha entre as opções abaixo o tipo do registro que deseja atualizar: \")\n",
        "  print(\"Digite 1 para alterar uma despesa\")\n",
        "  print(\"Digite 2 para alterar uma receita\")\n",
        "  print(\"Digite 3 para alterar um investimento\")\n",
        "  opcao_registro = int(input(\"Digite a opção desejada: \"))\n",
        "  id = int(input(\"Agora digite o id do registro que deseja alterar: \"))\n",
        "  print(\"Qual elemento do registro deseja alterar?\")\n",
        "  print(\"Digite 1 para alterar o tipo do  registro\")\n",
        "  print(\"Digite 2 para alterar o valor do registro\")\n",
        "  opcao_alteracao = int(input(\"Digite a opção desejada: \"))\n",
        "  opcao_novo_tipo = 0\n",
        "  if opcao_alteracao==1:\n",
        "    while True:\n",
        "      print(\"Para qual novo tipo deseja alterar o registro?\")\n",
        "      print(\"Digite 1 para alterar para uma despesa\")\n",
        "      print(\"Digite 2 para alterar para uma receita\")\n",
        "      print(\"Digite 3 para alterar para um investimento\")\n",
        "      opcao_novo_tipo = int(input(\"Digite a opção desejada: \"))\n",
        "\n",
        "      if opcao_novo_tipo == opcao_registro:\n",
        "        print(\"Opcao de alteração igual a opção original, escolha outra opção\")\n",
        "        continue\n",
        "      else:\n",
        "        break\n",
        "\n",
        "    registro = dicionario[dados[str(opcao_registro)]][busca_indice_registro(dicionario,dados[str(opcao_registro)],id)]\n",
        "    deletar_registro(dicionario,id,dados[str(opcao_registro)])\n",
        "\n",
        "    if opcao_registro==1:\n",
        "      registro[\"valor_numerico\"] =  (registro[\"valor_numerico\"])*-1\n",
        "\n",
        "    if opcao_novo_tipo==1:\n",
        "      registro[\"valor_numerico\"] =  (registro[\"valor_numerico\"])*-1\n",
        "\n",
        "    novo_registro = atualiza_tipo_registro(registro,dados[str(opcao_novo_tipo)])\n",
        "    dicionario[dados[str(opcao_novo_tipo)]].append(novo_registro)\n",
        "\n",
        "  elif opcao_alteracao==2:\n",
        "\n",
        "    while True:\n",
        "      print(\"Qual o novo valor que deseja?\")\n",
        "      novo_valor = float(input(\"Digite um valor: \"))\n",
        "      if isinstance(novo_valor, float):\n",
        "        break\n",
        "      else:\n",
        "        print(\"Valor digitado não é um número, tente novamente.\")\n",
        "        continue\n",
        "\n",
        "    if opcao_registro==1 and novo_valor>0:\n",
        "      novo_valor=novo_valor*-1\n",
        "\n",
        "    if opcao_registro!=1 and novo_valor<0:\n",
        "      novo_valor=novo_valor*-1\n",
        "\n",
        "    registro = dicionario[dados[str(opcao_registro)]][busca_indice_registro(dicionario,dados[str(opcao_registro)],id)]\n",
        "    registro = atualiza_valor_registro(registro,novo_valor)\n",
        "    dicionario[dados[str(opcao_registro)]][busca_indice_registro(dicionario,dados[str(opcao_registro)],id)]=registro"
      ],
      "metadata": {
        "id": "3FSD57YT1aJ1"
      },
      "execution_count": null,
      "outputs": []
    },
    {
      "cell_type": "code",
      "source": [
        "'''\n",
        "  Função para retornar o somatório do valor numérico por\n",
        "  tipo de registro por ano.\n",
        "\n",
        "  input: dicionário com listas de registros, ano a ser analisado e o\n",
        "  tipo de registro.\n",
        "  output: somatório do valor numérico por tipo de registro.\n",
        "\n",
        "'''\n",
        "def retorna_soma_no_ano_tipo(dicionario:dict, ano:int, tipo:str)->float:\n",
        "    registros = dicionario[tipo]\n",
        "\n",
        "    def extrair_valor_se_corresponde(registro):\n",
        "        data = datetime.strptime(registro['data_do_registro'], \"%d/%m/%y\")\n",
        "        if data.year == ano:\n",
        "            return registro['valor_numerico']\n",
        "        return 0\n",
        "\n",
        "\n",
        "    valores = map(extrair_valor_se_corresponde, registros)\n",
        "    soma = sum(valores)\n",
        "\n",
        "    return soma\n",
        "\n",
        "\n"
      ],
      "metadata": {
        "id": "Xi161dA6cHnA"
      },
      "execution_count": null,
      "outputs": []
    },
    {
      "cell_type": "code",
      "source": [
        "'''\n",
        "  Função para retornar o somatório do valor numérico por\n",
        "  tipo de registro por mês/ano.\n",
        "\n",
        "  input: dicionário com listas de registros, mês a ser analisado,\n",
        "  ano a ser analisado e o tipo de registro.\n",
        "  output: somatório do valor numérico por tipo de registro por mês/ano.\n",
        "\n",
        "'''\n",
        "def retorna_soma_no_mes_tipo(dicionario:dict, mes:int,ano:int,tipo:str) -> float:\n",
        "    registros = dicionario[tipo]\n",
        "\n",
        "    def extrair_valor_se_corresponde(registro):\n",
        "        data = datetime.strptime(registro['data_do_registro'], \"%d/%m/%y\")\n",
        "        if data.month == mes and data.year == ano:\n",
        "            return registro['valor_numerico']\n",
        "        return 0\n",
        "\n",
        "\n",
        "    valores = map(extrair_valor_se_corresponde, registros)\n",
        "    soma = sum(valores)\n",
        "\n",
        "    return soma"
      ],
      "metadata": {
        "id": "kwVycwqJHMb8"
      },
      "execution_count": null,
      "outputs": []
    },
    {
      "cell_type": "code",
      "source": [
        "'''\n",
        "  Função para executar o menu do software.\n",
        "\n",
        "'''\n",
        "\n",
        "def menu_inicial():\n",
        "  dicionario = {}\n",
        "  dicionario[\"despesas\"] = []\n",
        "  dicionario[\"receitas\"] = []\n",
        "  dicionario[\"investimentos\"] = []\n",
        "  while True:\n",
        "    print(\"---- Sistema de controle financeiro ----\")\n",
        "    print(\"1. Adicionar ou Atualizar registro de receita, despesa ou investimento;\")\n",
        "    print(\"2. Importar arquivo para leitura;\")\n",
        "    print(\"3. Mostrar todos os registros;\")\n",
        "    print(\"4. Buscar registro;\")\n",
        "    print(\"5. Excluir registro;\")\n",
        "    print(\"6. Exibir soma dos valores registrados;\")\n",
        "    print(\"7. Atualizar rendimentos;\")\n",
        "    print(\"8. Exportar arquivo;\")\n",
        "    print(\"0. para Sair;\")\n",
        "\n",
        "    opcao = int(input(\"Digite o número da opção desejada: \"))\n",
        "    if opcao == 1:\n",
        "      opcao1 = int(input(\"Digite 1 para adicionar registros ou 2 para atualizar: \"))\n",
        "      if opcao1 == 1:\n",
        "        dicionario = adicionar_registro(dicionario)\n",
        "        print(\"Registros adicionados.\")\n",
        "      elif opcao1 == 2:\n",
        "        atualiza_dicionario(dicionario)\n",
        "        print(\"Registro atualizado\")\n",
        "    elif opcao == 2:\n",
        "      opcao2=int(input(\"Digite 1 para importar arquivo Json ou 2 para CSV: \"))\n",
        "      if opcao2 == 1:\n",
        "        dicionario_novo = coloca_registro_carga_csv(\"dados.json\")\n",
        "        atualiza_registro_repetido(dicionario,dicionario_novo)\n",
        "        print(\"Carga completa e registros adicionados.\")\n",
        "      elif opcao2 == 2:\n",
        "        dicionario_novo = coloca_registro_carga_csv(\"dados.csv\")\n",
        "        atualiza_registro_repetido(dicionario,dicionario_novo)\n",
        "        print(\"Carga completa e registros adicionados.\")\n",
        "    elif opcao == 3:\n",
        "      escreve_registros(dicionario)\n",
        "    elif opcao == 4:\n",
        "      print(\"Escolha uma opção de tipo de registro abaixo: \")\n",
        "      print(\"1 para despesas\")\n",
        "      print(\"2 para receitas\")\n",
        "      print(\"3 para investimentos\")\n",
        "      opcao4 = int(input(\"Escolha a opcao do tipo desejado: \"))\n",
        "      id = int(input(\"Escreva o id do registro desejado: \"))\n",
        "      registro = busca_registro(dicionario,dados[str(opcao4)],id)\n",
        "      print(f\"Registro encontrado:\")\n",
        "      print(f\"id:{registro['id_do_registro']}\\n\")\n",
        "      print(f\"Tipo do registro:{registro['tipo_de_registro']}\\n\")\n",
        "      print(f\"Valor:{registro['valor_numerico']}\\n\")\n",
        "      print(f\"Data:{registro['data_do_registro']}\\n\")\n",
        "\n",
        "\n",
        "    elif opcao == 5:\n",
        "      print(\"Escolha uma opção de tipo de registro abaixo: \")\n",
        "      print(\"1 para despesas\")\n",
        "      print(\"2 para receitas\")\n",
        "      print(\"3 para investimentos\")\n",
        "      opcao5 = int(input(\"Escolha a opcao do tipo desejado: \"))\n",
        "      id = int(input(\"Escreva o id do registro desejado: \"))\n",
        "      deletar_registro(dicionario,id,dados[str(opcao5)])\n",
        "      for a in dicionario[dados[str(opcao5)]]\n",
        "      print(\"Registro deletado com sucesso.\")\n",
        "      for a in dicionario[dados[str(opcao5)]]:\n",
        "          a[\"id_do_registro\"]  -= 1\n",
        "    elif opcao == 6:\n",
        "      print(\"Escolha uma opção de tipo de registro abaixo: \")\n",
        "      print(\"1 para despesas\")\n",
        "      print(\"2 para receitas\")\n",
        "      print(\"3 para investimentos\")\n",
        "      tipo = int(input(\"Escolha a opcao do tipo desejado: \"))\n",
        "      opcao6 = int(input(\"Digite 1 ter a soma por ano ou 2 para ter a soma por mes/ano: \"))\n",
        "      if opcao6 == 1:\n",
        "        ano = int(input(\"Digite o ano no qual deseja a soma do tipo escolhido: \"))\n",
        "        print(f\"O somatório no ano {ano} de {dados[str(tipo)]} é {retorna_soma_no_ano_tipo(dicionario, ano, dados[str(tipo)])}\")\n",
        "      if opcao6 == 2:\n",
        "        ano = int(input(\"Digite o ano no qual deseja a soma do tipo escolhido: \"))\n",
        "        mes = int(input(\"Digite o mes no qual deseja a soma do tipo escolhido: \"))\n",
        "        print(f\"O somatório no ano {ano} no mes {mes} de {dados[str(tipo)]} é {retorna_soma_no_mes_tipo(dicionario,mes,ano,dados[str(tipo)])}\")\n",
        "\n",
        "    elif opcao == 7:\n",
        "      taxa = float(input(\"Qual a taxa que deseja para atualizar o investimento?\"))\n",
        "      id = int(input(\"Qual o id do investimento que deseja atualizar o rendimento?\"))\n",
        "      dicionario = atualizar_rendimento(dicionario,id,taxa)\n",
        "      print(\"Atualização concluida com sucesso\")\n",
        "\n",
        "    elif opcao==8:\n",
        "        opcao8 = int(input(\"Digite 1 para exportar no formato csv ou 2 para exportar no formato json: \"))\n",
        "        if opcao8==1:\n",
        "          exporta_registro_csv(dicionario)\n",
        "          print(\"Arquivo exportado.\")\n",
        "        elif opcao8==2:\n",
        "          exporta_registro_json(dicionario)\n",
        "          print(\"Arquivo exportado.\")\n",
        "\n",
        "    elif opcao==0:\n",
        "      break\n",
        "    else:\n",
        "      print(\"Número incorreto. Digite novamente.\\n\")\n",
        "      continue"
      ],
      "metadata": {
        "id": "mJKw0HTYe0Pv"
      },
      "execution_count": null,
      "outputs": []
    },
    {
      "cell_type": "markdown",
      "source": [
        "### Execução do software"
      ],
      "metadata": {
        "id": "6e5TjuLmpc-7"
      }
    },
    {
      "cell_type": "code",
      "source": [
        "menu_inicial()"
      ],
      "metadata": {
        "id": "uLAzy-dJpb7G"
      },
      "execution_count": null,
      "outputs": []
    }
  ],
  "metadata": {
    "colab": {
      "private_outputs": true,
      "provenance": []
    },
    "kernelspec": {
      "display_name": "Python 3",
      "language": "python",
      "name": "python3"
    },
    "language_info": {
      "codemirror_mode": {
        "name": "ipython",
        "version": 3
      },
      "file_extension": ".py",
      "mimetype": "text/x-python",
      "name": "python",
      "nbconvert_exporter": "python",
      "pygments_lexer": "ipython3",
      "version": "3.6.6"
    }
  },
  "nbformat": 4,
  "nbformat_minor": 0
}
