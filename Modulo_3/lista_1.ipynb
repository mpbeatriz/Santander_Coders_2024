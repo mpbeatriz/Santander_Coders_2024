{
 "cells": [
  {
   "cell_type": "markdown",
   "metadata": {},
   "source": [
    "Calculadora de Horas\n",
    "\n",
    "Amanda trabalha como desenvolvedora Python em uma Consultoria em TI e recebe o valor de 25 reais por hora, sendo que em média ela trabalha em torno de 8 horas por dia. Para facilitar o acompanhamento de Amanda, desenvolva uma função chamada calculadora_horas que irá receber como entrada respectivamente duas marcações de tempo (com data e hora no formato string) time1 e time2, sendo time2 sempre posterior ao time1. A saída da função será respectivamente uma lista com dois valores float: o primeiro é o total de horas trabalhadas; e o segundo é o valor total que será recebido por Amanda.\n",
    "\n",
    "Observação: A resposta de saída da função deve ser uma lista com os respectivos valores indicados no enunciado, arredondados em 2 casas decimais."
   ]
  },
  {
   "cell_type": "code",
   "execution_count": 84,
   "metadata": {},
   "outputs": [],
   "source": [
    "from datetime import datetime, timedelta\n",
    "\n",
    "def calculadora_horas(time1, time2):\n",
    "    time1_1 = datetime.strptime(time1, '%Y-%m-%d %H:%M')\n",
    "    time2_2 = datetime.strptime(time2,'%Y-%m-%d %H:%M')\n",
    "    tempo_trabalhado = time2_2 - time1_1\n",
    "    tempo_float = tempo_trabalhado.total_seconds()/3600\n",
    "    valor_ganho = tempo_float * 25\n",
    "    return [round(tempo_float,2), round(valor_ganho,2)]"
   ]
  },
  {
   "cell_type": "code",
   "execution_count": 85,
   "metadata": {},
   "outputs": [
    {
     "data": {
      "text/plain": [
       "[8.45, 211.25]"
      ]
     },
     "execution_count": 85,
     "metadata": {},
     "output_type": "execute_result"
    }
   ],
   "source": [
    "calculadora_horas(\"2022-11-15 8:37\", \"2022-11-15 17:04\")"
   ]
  },
  {
   "cell_type": "code",
   "execution_count": null,
   "metadata": {},
   "outputs": [],
   "source": [
    "'''Entrada:\n",
    "{\n",
    "  \"time1\": \"2022-11-14 8:37\",\n",
    "  \"time2\": \"2022-11-15 17:04\"\n",
    "}\n",
    "Expectativa:\n",
    "[\n",
    "  8.45,\n",
    "  211.25\n",
    "]\n",
    "\n",
    "Entrada:\n",
    "{\n",
    "  \"time1\": \"2022-08-27 10:22\",\n",
    "  \"time2\": \"2022-08-27 17:59\"\n",
    "}\n",
    "Expectativa:\n",
    "[\n",
    "  7.62,\n",
    "  190.42\n",
    "]'''"
   ]
  },
  {
   "cell_type": "markdown",
   "metadata": {},
   "source": [
    "Ordenando pelo MMC\n",
    "\n",
    "\n",
    "O Mínimo Múltiplo Comum (MMC) de dois ou mais números é definido pelo múltiplo comum corresponde a todos os números observados. Por exemplo, o MMC entre 6 e 10 é o 30 devido aos número 2, 3 e 5. O objetivo deste exercício, além de calcular o MMC será ordenar uma lista utilizando o MMC. Assim, desenvolva a função ordenar_mmc, que como entrada irá receber uma lista de números e um número a parte de referência. A função deve calcular O MMC de cada um dos números da lista em relação ao de referência e em seguida ordenar os números originais de acordo com o MMC do menor valor para o maior, como o exemplo a seguir:\n",
    "\n",
    "Lista de entrada\n",
    "lista = [12, 8, 10]\n",
    "\n",
    "Número de referência\n",
    "ref = 4\n",
    "\n",
    "Utilizando a função\n",
    "print(ordenar_mmc(lista, ref))\n",
    "\n",
    "Resultado da função, pois o mmcs = [12, 8, 20] \n",
    "[8, 12, 10]"
   ]
  },
  {
   "cell_type": "code",
   "execution_count": 61,
   "metadata": {},
   "outputs": [],
   "source": [
    "import math\n",
    "\n",
    "def ordenar_mmc(lista, ref):\n",
    "\tlista_mmc = [math.lcm(i,ref) for i in lista]\n",
    "\tdici_mmc = dict(zip(lista,lista_mmc))\n",
    "\tlista_ordenada = sorted(dici_mmc, key=dici_mmc.get)\n",
    "\t\n",
    "\treturn lista_ordenada"
   ]
  },
  {
   "cell_type": "code",
   "execution_count": 62,
   "metadata": {},
   "outputs": [
    {
     "data": {
      "text/plain": [
       "[15, 8, 12, 13, 22]"
      ]
     },
     "execution_count": 62,
     "metadata": {},
     "output_type": "execute_result"
    }
   ],
   "source": [
    "ordenar_mmc([8,12,15,22,13], 5)\n",
    "#[15,8,12,13,22]\n",
    "# ex: [12,8,10] -> [8,12,10]"
   ]
  },
  {
   "cell_type": "markdown",
   "metadata": {},
   "source": [
    "Cálculo de IMC\n",
    "\n",
    "O Índice de Massa Corporal (IMC) é um coeficiente de referência para avaliar a saúde das pessoas de acordo com seu peso e altura, onde o IMC segue as seguintes faixas:\n",
    "\n",
    "IMC\tClassificação\n",
    "\n",
    "<= 18,5\t1 - Abaixo do Peso\n",
    "\n",
    "entre 18,6 e 24,9\t2 - Peso Ideal\n",
    "\n",
    "entre 25,0 e 29,9\t3 - Sobrepeso\n",
    "\n",
    "entre 30,0 e 34,9\t4 - Obesidade Grau I\n",
    "\n",
    "entre 35,0 e 39,9\t5 - Obesidade Grau II\n",
    "\n",
    ".>= 40,0\t6 - Obesidade Grau III\n",
    "\n",
    "Dadas as faixas e respectivas classificações, desenvolva a função calculo_imc que terá como entrada respectivamente uma lista de pesos em kg e uma lista de alturas em cm de 20 pessoas; e deve calcular o IMC de cada uma delas de acordo com a fórmula \n",
    "\n",
    "IMC=peso(kg)/altura(m)²\n",
    "\n",
    "​\n",
    "Por fim, calcular qual é a quantidade de pessoas em cada uma das faixas e devolver isto como resposta na forma de uma lista, onde os elementos são ordenados respectivamente segundo a ordem de classificação: isto é, o primeiro elemento será o número de pessoas na classificação 1 - Abaixo do Peso, e assim por diante."
   ]
  },
  {
   "cell_type": "code",
   "execution_count": 8,
   "metadata": {},
   "outputs": [],
   "source": [
    "def calculo_imc(pesos, alturas):\n",
    "\tlista_imc = list(map(lambda peso, altura: (peso/(altura*0.01)**2), pesos, alturas))\n",
    "\tcontador_abaixo = 0\n",
    "\tcontador_ideal = 0\n",
    "\tcontador_sobrepeso = 0\n",
    "\tcontador_1 = 0\n",
    "\tcontador_2 = 0\n",
    "\tcontador_3 = 0\n",
    "\tfor imc in lista_imc:\n",
    "\t\tif imc <= 18.51:\n",
    "\t\t\tcontador_abaixo +=0\n",
    "\t\telif imc >= 18.6 and imc <= 24.92:\n",
    "\t\t\tcontador_ideal +=1\n",
    "\t\telif imc>=25 and imc <= 29.93:\n",
    "\t\t\tcontador_sobrepeso += 1\n",
    "\t\telif imc>=30 and imc <= 34.94:\n",
    "\t\t\tcontador_1 += 1\n",
    "\t\telif imc>=35 and imc <= 39.95:\n",
    "\t\t\tcontador_2 += 1\n",
    "\t\telif imc>=40.06:\n",
    "\t\t\tcontador_3 += 1\n",
    "\tlista_final = [contador_abaixo, contador_ideal, contador_sobrepeso, contador_1, contador_2, contador_3]\n",
    "\treturn lista_final\n",
    "\t"
   ]
  },
  {
   "cell_type": "code",
   "execution_count": 9,
   "metadata": {},
   "outputs": [
    {
     "data": {
      "text/plain": [
       "[0, 4, 5, 4, 5, 2]"
      ]
     },
     "execution_count": 9,
     "metadata": {},
     "output_type": "execute_result"
    }
   ],
   "source": [
    "calculo_imc([123,86,117,108,81,116,62,95,78,106,96,79,85,87,98,86,123,59,114,71],\n",
    "  [176,184,178,174,177,164,179,161,183,176,181,160,169,161,182,165,164, 171, 176, 169])"
   ]
  },
  {
   "cell_type": "markdown",
   "metadata": {},
   "source": [
    "Frequência de Notas\n",
    "\n",
    "\n",
    "Após aplicar a prova para 40 alunos do módulo de técnicas de programação, o professor gostaria de avaliar qual foi a nota mais frequente e quantos alunos tiraram essa nota. Para isso, você deve desenvolver uma função nomeada nota_mais_frequente, onde será recebida uma lista com 40 notas de alunos e a função deve retornar uma lista com respectivamente a indicação de qual é a nota mais frequente e o valor de quantas vezes ocorreu esta nota.\n",
    "\n",
    "\n",
    "Importante destacar que as notas são valores positivos e inteiros que variam entre 0 e 10. Além disso, caso 2 ou mais notas sejam a mais frequente, o retorno da função deve ser a menor nota."
   ]
  },
  {
   "cell_type": "code",
   "execution_count": 1,
   "metadata": {},
   "outputs": [],
   "source": [
    "import numpy as np"
   ]
  },
  {
   "cell_type": "code",
   "execution_count": 55,
   "metadata": {},
   "outputs": [],
   "source": [
    "\n",
    "def nota_mais_frequente(lista):\n",
    "\tlista_array = np.array(lista)\n",
    "\tnumeros, contagem = np.unique(lista_array,return_counts=True)\n",
    "\t#print(numeros, contagem)\n",
    "\tmaximo = np.max(contagem)\n",
    "\t#print(maximo)\n",
    "\tnumero_max = numeros[contagem == maximo]\n",
    "\t#print(numero_max)\n",
    "\tnota_freq = np.min(numero_max)\n",
    "\t\n",
    "\treturn [int(nota_freq), int(maximo)]"
   ]
  },
  {
   "cell_type": "code",
   "execution_count": 56,
   "metadata": {},
   "outputs": [
    {
     "data": {
      "text/plain": [
       "[0, 7]"
      ]
     },
     "execution_count": 56,
     "metadata": {},
     "output_type": "execute_result"
    }
   ],
   "source": [
    "nota_mais_frequente([3,9,10,4,0,0,2,0,2,4,10,10,4,4,0,1,0,2,8, 2,8,6, 2,7,6, 6, 6, 1, 2, 10, 7, 9, 6, 1, 0, 3, 2,9,0])"
   ]
  },
  {
   "cell_type": "markdown",
   "metadata": {},
   "source": [
    "Palíndromo\n",
    "\n",
    "\n",
    "Palíndromo é a característica de uma palavra ser igualmente escrita na ordem normal e reversa, como por exemplo ana e arara. O objetivo deste exercício é criar uma função nomeada palindromo, onde a função recebe uma lista de palavras e a saída será a quantidade de palindromos dentro da lista. Lembre-se de avaliar as palavras independentemente da forma como estiver grafada."
   ]
  },
  {
   "cell_type": "code",
   "execution_count": 68,
   "metadata": {},
   "outputs": [],
   "source": [
    "def palindromo(lista):\n",
    "    contador = 0\n",
    "    for i in lista:\n",
    "        i = i.lower()\n",
    "        if i == i[::-1]:\n",
    "            contador += 1\n",
    "    return contador"
   ]
  },
  {
   "cell_type": "code",
   "execution_count": 69,
   "metadata": {},
   "outputs": [
    {
     "data": {
      "text/plain": [
       "2"
      ]
     },
     "execution_count": 69,
     "metadata": {},
     "output_type": "execute_result"
    }
   ],
   "source": [
    "palindromo([\"Anna\",\"Radar\",\"Coelho\",\"Ontem\"]) # 2"
   ]
  },
  {
   "cell_type": "markdown",
   "metadata": {},
   "source": [
    "Máximo Divisor Comum\n",
    "\n",
    "O máximo divisor comum entre dois números representa o maior valor que pode dividir estes números e ter como resultado um número inteiro. Para este exercício, você deve implementar uma função nomeada mdc, que irá receber dois números inteiros quaisquer como entrada e deve devolver como saída, o maior divisor comum destes números e os respectivos resultados das divisões inteiras dos números de entrada pelo MDC. Atenção: o retorno da função deve ser uma lista com os respectivos valores."
   ]
  },
  {
   "cell_type": "code",
   "execution_count": 86,
   "metadata": {},
   "outputs": [
    {
     "name": "stdout",
     "output_type": "stream",
     "text": [
      "[9, 10.0, 7.0]\n"
     ]
    }
   ],
   "source": [
    "from math import gcd\n",
    "\n",
    "def mdc(num1, num2):\n",
    "\tmdc = gcd(num1, num2)\n",
    "\treturn [mdc, num1/mdc, num2/mdc]\n",
    "\n",
    "print(mdc(90,63))"
   ]
  },
  {
   "cell_type": "markdown",
   "metadata": {},
   "source": [
    "Conversão de Binário para Decimal\n",
    "\n",
    "\n",
    "O Sistema binário é uma representação da matemática onde a base de referência para a construção dos números é o 2 ao invés do 10 comum na base decimal. Por exemplo, o binário 1001 na base decimal será igual a: 1001 = 1 * 2^3 + 0 * 2^2 + 0 * 2^1 + 1 * 2^0 = 9. O objetivo deste exercício é desenvolver uma função nomeada como conversor_binario, onde irá receber uma string com o número binário correspondente e a função deve devolver o respectivo número na base decimal."
   ]
  },
  {
   "cell_type": "code",
   "execution_count": 152,
   "metadata": {},
   "outputs": [],
   "source": [
    "def conversor_binario(binario):\n",
    "    numero_decimal = 0\n",
    "    contador = 0\n",
    "    \n",
    "    while contador < len(binario):\n",
    "        for i in range(len(binario) - 1, -1, -1):\n",
    "            numero_decimal += int(binario[i]) * 2 ** contador\n",
    "            contador += 1\n",
    "            \n",
    "    return numero_decimal\n"
   ]
  },
  {
   "cell_type": "code",
   "execution_count": 153,
   "metadata": {},
   "outputs": [
    {
     "data": {
      "text/plain": [
       "9"
      ]
     },
     "execution_count": 153,
     "metadata": {},
     "output_type": "execute_result"
    }
   ],
   "source": [
    "conversor_binario(\"1001\") #9\n"
   ]
  }
 ],
 "metadata": {
  "kernelspec": {
   "display_name": "Python 3",
   "language": "python",
   "name": "python3"
  },
  "language_info": {
   "codemirror_mode": {
    "name": "ipython",
    "version": 3
   },
   "file_extension": ".py",
   "mimetype": "text/x-python",
   "name": "python",
   "nbconvert_exporter": "python",
   "pygments_lexer": "ipython3",
   "version": "3.12.2"
  }
 },
 "nbformat": 4,
 "nbformat_minor": 2
}
