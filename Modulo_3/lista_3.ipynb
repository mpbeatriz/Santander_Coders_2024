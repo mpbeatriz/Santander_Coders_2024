{
 "cells": [
  {
   "cell_type": "markdown",
   "metadata": {},
   "source": [
    "Média de Avaliações de Jogos Eletrônicos Usando Numpy\n",
    "\n",
    "\n",
    "Você é um analista de dados em uma empresa de jogos eletrônicos e recebeu uma tarefa para analisar as notas de avaliação de jogos de um banco de dados. As notas de avaliação são armazenadas em um array numpy, uma biblioteca do Python que permite trabalhar com matrizes multidimensionais e oferece diversas funções e operações matemáticas. Uma das vantagens do numpy em relação às listas é que as operações em arrays são mais eficientes computacionalmente, permitindo lidar com grandes quantidades de dados de forma mais rápida. Você precisa calcular a média das notas para ter uma ideia da satisfação dos jogadores com os jogos. Para isso, você vai criar uma função chamada media_avaliacao, que recebe como argumento um array do tipo numpy e retorna um único valor float com a média."
   ]
  },
  {
   "cell_type": "code",
   "execution_count": 1,
   "metadata": {},
   "outputs": [],
   "source": [
    "import numpy as np\n",
    "\n",
    "def media_avaliacao(arr: np.ndarray) -> float:\n",
    "\tarray = np.array(arr)\n",
    "\treturn array.mean()"
   ]
  },
  {
   "cell_type": "markdown",
   "metadata": {},
   "source": [
    "Cálculo da soma dos elementos de cada coluna em uma matriz usando NumPy\n",
    "\n",
    "O processamento digital de imagens é uma área que utiliza técnicas computacionais para processar e analisar imagens digitais. Uma das bibliotecas utilizadas nessa área é o NumPy, uma biblioteca Python que permite trabalhar com matrizes multidimensionais e oferece diversas funções e operações matemáticas.\n",
    "\n",
    "Suponha que você seja um desenvolvedor de software de processamento digital de imagens e foi designado para criar uma função que calcule a soma dos elementos de cada coluna de uma matriz de entrada. A matriz de entrada pode ter qualquer tamanho e é armazenada como um array NumPy.\n",
    "\n",
    "Assinatura da função: soma_colunas(matriz: np.ndarray) -> np.ndarray"
   ]
  },
  {
   "cell_type": "code",
   "execution_count": 8,
   "metadata": {},
   "outputs": [],
   "source": [
    "import numpy as np\n",
    "def soma_colunas(matriz: np.ndarray) -> np.ndarray:\n",
    "\tsoma = np.sum(matriz, axis=0)\n",
    "\treturn soma\n",
    "\t\t\t"
   ]
  },
  {
   "cell_type": "code",
   "execution_count": 9,
   "metadata": {},
   "outputs": [
    {
     "data": {
      "text/plain": [
       "array([12, 15, 18])"
      ]
     },
     "execution_count": 9,
     "metadata": {},
     "output_type": "execute_result"
    }
   ],
   "source": [
    "soma_colunas([[1, 2, 3],\n",
    "              [4, 5, 6],\n",
    "              [7, 8, 9]])"
   ]
  },
  {
   "cell_type": "code",
   "execution_count": null,
   "metadata": {},
   "outputs": [],
   "source": [
    "''' matriz = np.array([[1, 2, 3], [4, 5, 6], [7, 8, 9]])\n",
    "\n",
    "soma = soma_colunas(matriz)\n",
    "\n",
    ">>> array([12, 15, 18])'''"
   ]
  },
  {
   "cell_type": "markdown",
   "metadata": {},
   "source": [
    "Análise de transações financeiras com NumPy\n",
    "\n",
    "A biblioteca NumPy é uma ferramenta amplamente utilizada na área financeira para a análise de grandes conjuntos de dados, principalmente na detecção de fraudes bancárias. Como analista de dados de uma instituição financeira, você foi designado para analisar transações financeiras a fim de identificar possíveis fraudes. A instituição coleta os dados das transações realizadas e armazena-os em arrays NumPy. Escreva uma função chamada analisa_transacoes, que recebe como entrada um array NumPy de valores de transações e retorna um array NumPy do tipo float64 com as seguintes medidas estatísticas:\n",
    "\n",
    "Média;\n",
    "Desvio padrão;\n",
    "Valor mínimo;\n",
    "Valor máximo;\n",
    "Mediana;\n",
    "Quartis 25% e 75%.\n",
    "\n",
    "Com essas medidas estatísticas, a instituição poderá identificar possíveis padrões e anomalias nos dados das transações, que podem ser sinais de atividades fraudulentas.\n",
    "\n",
    "Dica: Utilize as funções disponíveis no NumPy para calcular cada medida estatística."
   ]
  },
  {
   "cell_type": "code",
   "execution_count": 22,
   "metadata": {},
   "outputs": [],
   "source": [
    "def analisa_transacoes(arr: np.ndarray) -> np.ndarray:\n",
    "\tlista = np.array([np.mean(arr), np.std(arr), np.min(arr), np.max(arr), np.median(arr), np.quantile(arr, 0.25), np.quantile(arr, 0.75)])\n",
    "\treturn lista\n",
    "\t"
   ]
  },
  {
   "cell_type": "code",
   "execution_count": 23,
   "metadata": {},
   "outputs": [
    {
     "data": {
      "text/plain": [
       "array([200.        , 139.55285737,  50.        , 500.        ,\n",
       "       160.        ,  95.        , 262.5       ])"
      ]
     },
     "execution_count": 23,
     "metadata": {},
     "output_type": "execute_result"
    }
   ],
   "source": [
    "analisa_transacoes(np.array([100.0, 200.0, 50.0, 300.0, 250.0, 120.0, 80.0, 500.0]))"
   ]
  },
  {
   "cell_type": "markdown",
   "metadata": {},
   "source": [
    "Concatenação de Arrays Numpy para Análise de Vendas em Diferentes Regiões\n",
    "\n",
    "Você é um analista de dados em uma empresa de vendas online e recebeu uma tarefa para analisar as vendas de um determinado produto em diferentes regiões do país. As informações de vendas são armazenadas em dois arrays numpy, um com as vendas da região Sul e outro com as vendas da região Norte. O numpy é uma biblioteca do Python utilizada para trabalhar com matrizes e arrays multidimensionais de forma eficiente, que oferece diversas funções e operações para facilitar a manipulação desses objetos. Uma das vantagens do numpy em relação às listas do Python é a velocidade e eficiência nas operações com arrays. Você precisa concatenar os dois arrays para ter uma visão geral das vendas do produto em todo o país. Para isso, você vai criar uma função chamada concatena_array, que recebe como argumentos dois arrays do tipo numpy e retorna um único array do tipo numpy concatenando os dois."
   ]
  },
  {
   "cell_type": "code",
   "execution_count": 28,
   "metadata": {},
   "outputs": [],
   "source": [
    "def concatena_array(arr1: np.ndarray, arr2: np.ndarray) -> np.ndarray:\n",
    "\treturn np.concatenate((arr1, arr2))"
   ]
  },
  {
   "cell_type": "code",
   "execution_count": 29,
   "metadata": {},
   "outputs": [
    {
     "data": {
      "text/plain": [
       "array([100, 150, 200,  50,  75, 100])"
      ]
     },
     "execution_count": 29,
     "metadata": {},
     "output_type": "execute_result"
    }
   ],
   "source": [
    "vendas_sul = np.array([100, 150, 200])\n",
    "vendas_norte = np.array([50, 75, 100])\n",
    "\n",
    "concatena_array(vendas_sul, vendas_norte)"
   ]
  },
  {
   "cell_type": "markdown",
   "metadata": {},
   "source": [
    "Cálculo do Índice de Massa Corporal (IMC) em um Dataframe\n",
    "\n",
    "Você é um nutricionista e precisa criar uma ferramenta para calcular o Índice de Massa Corporal (IMC) de seus pacientes. Para isso, você pode utilizar a biblioteca Pandas do Python. Ela é uma biblioteca Python de código aberto que fornece ferramentas de análise e manipulação de dados de forma rápida e eficiente. O Pandas permite trabalhar com dados em formato de tabela, chamados de DataFrames, com colunas de tipos diferentes, além de oferecer funcionalidades para indexação, agregação, seleção, filtragem e visualização dos dados. Com essa biblioteca, é possível realizar tarefas de limpeza, transformação e modelagem de dados, sendo uma ferramenta muito útil em áreas como ciência de dados, finanças, economia, entre outras.\n",
    "\n",
    "Escreva uma função chamada calcula_imc que receba um DataFrame pandas contendo as informações de nome, idade, sexo, altura e peso de um paciente, calcule o IMC e adicione uma nova coluna no DataFrame contendo o resultado do cálculo. Em seguida, a função deve retornar o DataFrame modificado.\n",
    "\n",
    "A fórmula para calcular o IMC:\\\n",
    "IMC = peso / altura²"
   ]
  },
  {
   "cell_type": "code",
   "execution_count": 34,
   "metadata": {},
   "outputs": [],
   "source": [
    "import pandas as pd\n",
    "\n",
    "def calcula_imc(df: pd.DataFrame) -> pd.DataFrame:\n",
    "\tdf['IMC'] = df['Peso'] / df['Altura'] **2\n",
    "\tprint(df)"
   ]
  },
  {
   "cell_type": "code",
   "execution_count": 37,
   "metadata": {},
   "outputs": [
    {
     "name": "stdout",
     "output_type": "stream",
     "text": [
      "     Nome  Idade Sexo  Altura  Peso        IMC\n",
      "0    João     30    M    1.75    70  22.857143\n",
      "1   Maria     25    F    1.68    55  19.486961\n",
      "2    José     40    M    1.80    85  26.234568\n",
      "3     Ana     35    F    1.65    75  27.548209\n",
      "4  Carlos     28    M    1.72    80  27.041644\n"
     ]
    }
   ],
   "source": [
    "dados = {\n",
    "    \"Nome\": [\"João\", \"Maria\", \"José\", \"Ana\", \"Carlos\"],\n",
    "    \"Idade\": [30, 25, 40, 35, 28],\n",
    "    \"Sexo\": [\"M\", \"F\", \"M\", \"F\", \"M\"],\n",
    "    \"Altura\": [1.75, 1.68, 1.80, 1.65, 1.72],\n",
    "    \"Peso\": [70, 55, 85, 75, 80]\n",
    "}\n",
    "df = pd.DataFrame(dados)\n",
    "calcula_imc(df)\n"
   ]
  },
  {
   "cell_type": "markdown",
   "metadata": {},
   "source": [
    "Criação de uma Matriz Identidade Usando NumPy\n",
    "\n",
    "No processamento digital de imagens, é comum utilizar matrizes para representar imagens e aplicar operações matemáticas sobre elas. Uma operação comum é a multiplicação de uma matriz por um escalar, que pode ser usado para ajustar o brilho ou a intensidade de cores de uma imagem. O NumPy é uma biblioteca do Python que permite trabalhar com matrizes multidimensionais e oferece diversas funções e operações matemáticas.\n",
    "\n",
    "Nesse contexto, crie uma função chamada cria_matriz_identidade que receba dois parâmetros: o tamanho da matriz (n) e o fator de multiplicação (m). A função deve retornar uma matriz identidade de tamanho n x n multiplicada pelo fator m, representada como um array numpy."
   ]
  },
  {
   "cell_type": "code",
   "execution_count": 42,
   "metadata": {},
   "outputs": [],
   "source": [
    "import numpy as np\n",
    "def cria_matriz_identidade(n:int, m:float) -> np.ndarray:\n",
    "\tmatriz = np.identity((n))\n",
    "\treturn matriz * m"
   ]
  },
  {
   "cell_type": "code",
   "execution_count": 43,
   "metadata": {},
   "outputs": [
    {
     "data": {
      "text/plain": [
       "'>>> array([[2., 0., 0.],\\n           [0., 2., 0.],\\n           [0., 0., 2.]])'"
      ]
     },
     "execution_count": 43,
     "metadata": {},
     "output_type": "execute_result"
    }
   ],
   "source": [
    "cria_matriz_identidade(3, 2)\n",
    "\n",
    "'''>>> array([[2., 0., 0.],\n",
    "           [0., 2., 0.],\n",
    "           [0., 0., 2.]])'''"
   ]
  },
  {
   "cell_type": "markdown",
   "metadata": {},
   "source": [
    "Criação de DataFrame Pandas para Apoio a Planejamento de Dieta\n",
    "\n",
    "Suponha que você esteja desenvolvendo um sistema para apoio a planejamento de dieta, que tem como objetivo auxiliar as pessoas a atingirem seus objetivos de saúde por meio de uma alimentação equilibrada. Uma das funcionalidades desse sistema é o registro das informações pessoais dos usuários, tais como nome, idade, sexo, altura e peso.\n",
    "\n",
    "Para armazenar essas informações, você pode utilizar a biblioteca pandas do Python, que permite trabalhar com tabelas de dados (DataFrames). Pandas é uma biblioteca Python de código aberto que fornece ferramentas de análise e manipulação de dados de forma rápida e eficiente. O Pandas permite trabalhar com dados em formato de tabela, chamados de DataFrames, com colunas de tipos diferentes, além de oferecer funcionalidades para indexação, agregação, seleção, filtragem e visualização dos dados. Com essa biblioteca, é possível realizar tarefas de limpeza, transformação e modelagem de dados, sendo uma ferramenta muito útil em áreas como ciência de dados, finanças, economia, entre outras.\n",
    "\n",
    "Crie uma função chamada cria_dataframe que receba uma lista contendo as informações de nome, idade, sexo, altura e peso de \n",
    "n\n",
    "n pessoas e retorne um DataFrame com essas informações."
   ]
  },
  {
   "cell_type": "code",
   "execution_count": 48,
   "metadata": {},
   "outputs": [],
   "source": [
    "import pandas as pd\n",
    "\n",
    "def cria_dataframe(lista: list) -> pd.DataFrame:\n",
    "\treturn pd.DataFrame(lista, columns=['Nome', 'Idade', 'Sexo', 'Altura', 'Peso'])"
   ]
  },
  {
   "cell_type": "code",
   "execution_count": 49,
   "metadata": {},
   "outputs": [
    {
     "data": {
      "text/html": [
       "<div>\n",
       "<style scoped>\n",
       "    .dataframe tbody tr th:only-of-type {\n",
       "        vertical-align: middle;\n",
       "    }\n",
       "\n",
       "    .dataframe tbody tr th {\n",
       "        vertical-align: top;\n",
       "    }\n",
       "\n",
       "    .dataframe thead th {\n",
       "        text-align: right;\n",
       "    }\n",
       "</style>\n",
       "<table border=\"1\" class=\"dataframe\">\n",
       "  <thead>\n",
       "    <tr style=\"text-align: right;\">\n",
       "      <th></th>\n",
       "      <th>Nome</th>\n",
       "      <th>Idade</th>\n",
       "      <th>Sexo</th>\n",
       "      <th>Altura</th>\n",
       "      <th>Peso</th>\n",
       "    </tr>\n",
       "  </thead>\n",
       "  <tbody>\n",
       "    <tr>\n",
       "      <th>0</th>\n",
       "      <td>Maria</td>\n",
       "      <td>30</td>\n",
       "      <td>F</td>\n",
       "      <td>1.65</td>\n",
       "      <td>65.0</td>\n",
       "    </tr>\n",
       "    <tr>\n",
       "      <th>1</th>\n",
       "      <td>João</td>\n",
       "      <td>25</td>\n",
       "      <td>M</td>\n",
       "      <td>1.75</td>\n",
       "      <td>80.0</td>\n",
       "    </tr>\n",
       "    <tr>\n",
       "      <th>2</th>\n",
       "      <td>Ana</td>\n",
       "      <td>40</td>\n",
       "      <td>F</td>\n",
       "      <td>1.70</td>\n",
       "      <td>70.0</td>\n",
       "    </tr>\n",
       "    <tr>\n",
       "      <th>3</th>\n",
       "      <td>Pedro</td>\n",
       "      <td>20</td>\n",
       "      <td>M</td>\n",
       "      <td>1.80</td>\n",
       "      <td>75.0</td>\n",
       "    </tr>\n",
       "    <tr>\n",
       "      <th>4</th>\n",
       "      <td>Lúcia</td>\n",
       "      <td>35</td>\n",
       "      <td>F</td>\n",
       "      <td>1.60</td>\n",
       "      <td>55.0</td>\n",
       "    </tr>\n",
       "  </tbody>\n",
       "</table>\n",
       "</div>"
      ],
      "text/plain": [
       "    Nome  Idade Sexo  Altura  Peso\n",
       "0  Maria     30    F    1.65  65.0\n",
       "1   João     25    M    1.75  80.0\n",
       "2    Ana     40    F    1.70  70.0\n",
       "3  Pedro     20    M    1.80  75.0\n",
       "4  Lúcia     35    F    1.60  55.0"
      ]
     },
     "execution_count": 49,
     "metadata": {},
     "output_type": "execute_result"
    }
   ],
   "source": [
    "dados = [[\"Maria\", 30, \"F\", 1.65, 65.0], \n",
    "         [\"João\", 25, \"M\", 1.75, 80.0], \n",
    "         [\"Ana\", 40, \"F\", 1.70, 70.0], \n",
    "         [\"Pedro\", 20, \"M\", 1.80, 75.0], \n",
    "         [\"Lúcia\", 35, \"F\", 1.60, 55.0]]\n",
    "\n",
    "cria_dataframe(dados)"
   ]
  }
 ],
 "metadata": {
  "kernelspec": {
   "display_name": "Python 3",
   "language": "python",
   "name": "python3"
  },
  "language_info": {
   "codemirror_mode": {
    "name": "ipython",
    "version": 3
   },
   "file_extension": ".py",
   "mimetype": "text/x-python",
   "name": "python",
   "nbconvert_exporter": "python",
   "pygments_lexer": "ipython3",
   "version": "3.12.2"
  }
 },
 "nbformat": 4,
 "nbformat_minor": 2
}
