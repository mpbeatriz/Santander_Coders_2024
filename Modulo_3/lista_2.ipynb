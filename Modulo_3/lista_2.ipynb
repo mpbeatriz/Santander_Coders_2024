{
 "cells": [
  {
   "cell_type": "markdown",
   "metadata": {},
   "source": [
    "Tradução de DNA para RNA\n",
    "\n",
    "O DNA, molécula que armazena o código genético de seres vivos; e o RNA, molécula que atua sobretudo no processo de síntese proteica, são compostas, dentre outras coisas, pelas bases nitrogenadas Adenina (A), Guanina (G), Citosina (C), Timina (T) e Uracila (U). Na cadeia do DNA temos as bases A,G,C,T; e no RNA as bases A,G,C,U. No processo de transcrição de DNA para RNA, a Timina (T) é substituída pela Uracila (U). O objetivo deste exercício será desenvolver uma função que deve ser chamada de tradutor_dna_to_rna onde como entrada irá receber uma string com o código do DNA e deve devolver o código traduzido para RNA."
   ]
  },
  {
   "cell_type": "code",
   "execution_count": 6,
   "metadata": {},
   "outputs": [],
   "source": [
    "def tradutor_dna_to_rna(dna):\n",
    "\trna = dna.replace('T', 'U')\n",
    "\treturn rna"
   ]
  },
  {
   "cell_type": "code",
   "execution_count": 7,
   "metadata": {},
   "outputs": [
    {
     "data": {
      "text/plain": [
       "'ACGUUUCUCAAA'"
      ]
     },
     "execution_count": 7,
     "metadata": {},
     "output_type": "execute_result"
    }
   ],
   "source": [
    "tradutor_dna_to_rna(\"ACGTTTCTCAAA\")"
   ]
  },
  {
   "cell_type": "markdown",
   "metadata": {},
   "source": [
    "Conversão de Número para Binário\n",
    "\n",
    "\n",
    "O Sistema binário é uma representação da matemática onde a base de referência para a construção dos números é o 2 ao invés do 10 comum na base decimal. Por exemplo, o binário 1001 na base decimal será igual a 1001 = 1*2^3 + 0*2^2 + 0*2^1 + 1*2^0 = 9. O objetivo deste exercício é desenvolver uma função nomeada como conversor_numero, que irá receber um valor númerico inteiro na base decimal e converter este valor para a base binária, que deve ser retornado na forma de string. Por exemplo, se a função receber o número inteiro 9 como input, deve retornar a string '1001'."
   ]
  },
  {
   "cell_type": "code",
   "execution_count": 38,
   "metadata": {},
   "outputs": [],
   "source": [
    "def conversor_numero(num):\n",
    "\tbinario = []\n",
    "\twhile num // 2 > 0: # 9\n",
    "\t\tbinario.append(str(num % 2))\n",
    "\t\tnum = num //2\n",
    "\tbinario.append('1')\n",
    "\tbinario.reverse()\n",
    "\treturn ''.join(binario)\n",
    "\t\t"
   ]
  },
  {
   "cell_type": "code",
   "execution_count": 39,
   "metadata": {},
   "outputs": [
    {
     "data": {
      "text/plain": [
       "'11001'"
      ]
     },
     "execution_count": 39,
     "metadata": {},
     "output_type": "execute_result"
    }
   ],
   "source": [
    "conversor_numero(25) #1001\n",
    "\t"
   ]
  },
  {
   "cell_type": "markdown",
   "metadata": {},
   "source": [
    "Verificador de Aprovação\n",
    "\n",
    "Um professor de programação ao longo do curso passou diversas atividades para entregar valendo nota (10 atividades), além de contabilizar as frequências dos alunos ao longo de 25 aulas. Como são muitos alunos para avaliar, foi sugerida uma ferramenta que auxilie nestes fechamentos de notas. Para isto, desenvolva a função verifica_aprovacao, que receberá como entrada um lista com 11 elementos, onde os 10 primeiros são as notas dos alunos e o último é a quantidade de aulas que o aluno compareceu. A função deve devolver como saída se o aluno está Aprovado ou Reprovado, sendo que como critério de aprovação o aluno deve ter média maior ou igual a \n",
    "6.0\n",
    "6.0; e presença maior ou igual a 70%."
   ]
  },
  {
   "cell_type": "code",
   "execution_count": 68,
   "metadata": {},
   "outputs": [],
   "source": [
    "def verifica_aprovacao(notas_freq):\n",
    "\tfreq = notas_freq[10]\n",
    "\tnotas_freq.pop()\n",
    "\t# print(freq)\n",
    "\t# print(notas_freq)\n",
    "\tmedia = sum(notas_freq) / 10\n",
    "\tprocentagem_freq = freq / 25 * 100\n",
    "\t# print(media, procentagem_freq)\n",
    "\tif media >=6 and procentagem_freq >= 70:\n",
    "\t\treturn 'Aprovado'\n",
    "\telse:\n",
    "\t\treturn 'Reprovado'\n",
    "\t#print(media)"
   ]
  },
  {
   "cell_type": "code",
   "execution_count": 69,
   "metadata": {},
   "outputs": [
    {
     "data": {
      "text/plain": [
       "'Aprovado'"
      ]
     },
     "execution_count": 69,
     "metadata": {},
     "output_type": "execute_result"
    }
   ],
   "source": [
    "verifica_aprovacao([5,7.5,6.5,4,9,8.5,5,6.5,7.5,5.5,20]) # Aprovado"
   ]
  },
  {
   "cell_type": "code",
   "execution_count": 70,
   "metadata": {},
   "outputs": [
    {
     "data": {
      "text/plain": [
       "'Reprovado'"
      ]
     },
     "execution_count": 70,
     "metadata": {},
     "output_type": "execute_result"
    }
   ],
   "source": [
    "verifica_aprovacao([6,6.5,4.5,7,6,7.5,5,5.5,6.5,6.5,15]) # Reprovado"
   ]
  },
  {
   "cell_type": "markdown",
   "metadata": {},
   "source": [
    "Matching entre Vetores\n",
    "\n",
    "No contexto de Machine Learning, um processo bem comum é de comparar respostas entre vetores (listas de valores) para entender o quão assertivo foi um determinado modelo. Dado este contexto, desenvolva a função vector_matching que verifica os elementos de mesma posição desses vetores, checando se eles são iguais ou diferentes. Para esta função têm-se como entrada dois vetores de dimensões iguais preenchidos com 0 ou 1; e a saída da função será o percentual de valores concordantes entre os dois vetores (arredonde o percentual para 1 casa decimal). Esta métrica é denominada acurácia.\n",
    "\n",
    "Obs.: Importante explicitar a saída como um valor float, ou seja, utilize o float()."
   ]
  },
  {
   "cell_type": "code",
   "execution_count": 82,
   "metadata": {},
   "outputs": [],
   "source": [
    "def vector_matching(v1, v2):\n",
    "\tif v1 == v2:\n",
    "\t\treturn 100.0\n",
    "\telse:\n",
    "\t\tcontador = 0\n",
    "\t\tfor iter in range(len(v1)):\n",
    "\t\t\tif v1[iter] == v2[iter]:\n",
    "\t\t\t\tcontador +=1\n",
    "\tpercent = contador / len(v1) * 100\n",
    "\treturn round(percent, 1)\n",
    "\t\t\t"
   ]
  },
  {
   "cell_type": "code",
   "execution_count": 83,
   "metadata": {},
   "outputs": [
    {
     "data": {
      "text/plain": [
       "50.0"
      ]
     },
     "execution_count": 83,
     "metadata": {},
     "output_type": "execute_result"
    }
   ],
   "source": [
    "vector_matching([1,1,1,1,0,0,1,0,1,0],\n",
    "                [0,0,1,1,1,0,0,1,1,0])"
   ]
  },
  {
   "cell_type": "code",
   "execution_count": 84,
   "metadata": {},
   "outputs": [
    {
     "data": {
      "text/plain": [
       "46.2"
      ]
     },
     "execution_count": 84,
     "metadata": {},
     "output_type": "execute_result"
    }
   ],
   "source": [
    "vector_matching([0,0,1,0,1,0,0,0,0,1,0,0,0],\n",
    "                [0,0,0,0,0,0,1,1,0,0,1,0,1])"
   ]
  },
  {
   "cell_type": "markdown",
   "metadata": {},
   "source": [
    "Normalização ou Z-Score\n",
    "\n",
    "A normalização é uma ferramenta muito importante da estatística que transforma (reescala) um conjunto de dados de modo a fazer com que a distribuição transformada tenha média zero e desvio padrão 1. O processo de normalização se dá a partir do cálculo do chamado z-score. O objetivo deste exercício será desenvolver a função z_score, que recebe uma lista de entrada com um conjunto de dados quaisquer, e retorna a lista com os respectivos Z-Scores dos dados, seguindo a função \n",
    "Z = x − μ / σ\n",
    "\n",
    "​\n",
    " , onde μ é a média do conjunto de dados e σ é o desvio padrão do mesmo. Importante: arredonde os valores para 4 casas decimais."
   ]
  },
  {
   "cell_type": "code",
   "execution_count": 122,
   "metadata": {},
   "outputs": [],
   "source": [
    "import numpy as np\n",
    "\n",
    "def z_score(data):\n",
    "\tdata_np = np.array(data)\n",
    "\tmedia = data_np.mean()\n",
    "\tdesvio_padrao = data_np.std()\n",
    "\tprint(media, desvio_padrao)\n",
    "\tz_scores = list(map(lambda x: round((x - media)/desvio_padrao, 4), data_np))\n",
    "\treturn z_scores\n",
    "\n"
   ]
  },
  {
   "cell_type": "code",
   "execution_count": 123,
   "metadata": {},
   "outputs": [
    {
     "name": "stdout",
     "output_type": "stream",
     "text": [
      "49.15 17.675618801049087\n"
     ]
    },
    {
     "data": {
      "text/plain": [
       "[0.8967,\n",
       " 1.6888,\n",
       " -1.0834,\n",
       " 0.0481,\n",
       " -1.14,\n",
       " -1.3663,\n",
       " 1.0664,\n",
       " -1.0834,\n",
       " 0.6704,\n",
       " -0.0651,\n",
       " 0.727,\n",
       " 0.2178,\n",
       " -1.5926,\n",
       " -1.5926,\n",
       " 0.2744,\n",
       " 1.2927,\n",
       " -0.5742,\n",
       " 1.123,\n",
       " 0.5007,\n",
       " -0.0085]"
      ]
     },
     "execution_count": 123,
     "metadata": {},
     "output_type": "execute_result"
    }
   ],
   "source": [
    "z_score([65,79,30,50,29,25,68,30,61,48,62,53,21,21,54,72,39,69,58,49])\n",
    "# Expectativa:[0.8967,1.6888,-1.0834,0.0481,-1.14,-1.3663,1.0664,-1.0834,0.6704,-0.0651,\n",
    "#              0.727,0.2178,-1.5926,-1.5926,0.2744,1.2927,-0.5742,1.123,0.5007,-0.0085]"
   ]
  },
  {
   "cell_type": "markdown",
   "metadata": {},
   "source": [
    "Escalonamento MinMaxScaler\n",
    "\n",
    "Um segundo método muito utilizado para reescalar um conjunto de dados é o MinMaxScaler, que altera a escala de um conjunto de dados para um intervalo determinado, a partir dos valores máximos e mínimos do conjunto de dados original. O objetivo deste exercício será desenvolver uma função chamada minmaxscaler que irá receber como entrada um conjunto de dados e de saída será uma lista com os valores na nova escala seguindo a função\n",
    " \n",
    "y = x − min / max - min\n",
    "\n",
    "Neste caso, os dados estarão escalados entre 0 e 1. Importante: arredonde para 4 casas decimais."
   ]
  },
  {
   "cell_type": "code",
   "execution_count": 129,
   "metadata": {},
   "outputs": [],
   "source": [
    "import numpy as np\n",
    "\n",
    "def minmaxscaler(data):\n",
    "    data_np = np.array(data)\n",
    "    min = data_np.min()\n",
    "    max = data_np.max()\n",
    "\n",
    "    minmax = list(map(lambda x: round((x-min)/(max-min), 4), data_np))\n",
    "    return minmax"
   ]
  },
  {
   "cell_type": "code",
   "execution_count": 130,
   "metadata": {},
   "outputs": [
    {
     "data": {
      "text/plain": [
       "[0.4737,\n",
       " 0.5789,\n",
       " 0.4737,\n",
       " 0.1053,\n",
       " 0.5789,\n",
       " 0.6316,\n",
       " 0.4211,\n",
       " 0.0,\n",
       " 0.4737,\n",
       " 0.0,\n",
       " 0.1053,\n",
       " 0.6842,\n",
       " 0.9474,\n",
       " 1.0,\n",
       " 0.2105,\n",
       " 1.0,\n",
       " 0.7368,\n",
       " 0.7368,\n",
       " 0.6316,\n",
       " 0.8421]"
      ]
     },
     "execution_count": 130,
     "metadata": {},
     "output_type": "execute_result"
    }
   ],
   "source": [
    "minmaxscaler([29,31,29,22,31,32,28,20,29,20,22,33,38,39,24,39,34,34,32,36])\n",
    "# [0.4737,0.5789,0.4737,0.1053,0.5789,0.6316,0.4211,0,0.4737,0,0.1053,0.6842,0.9474,1,0.2105,1,0.7368,0.7368,0.6316,0.8421]"
   ]
  },
  {
   "cell_type": "markdown",
   "metadata": {},
   "source": [
    "Número Primo\n",
    "\n",
    "Os números primos são números com uma característica especial: um número primo só é divisível por ele mesmo ou pelo número 1. O objetivo deste exercício será criar a função verifica_primo, onde a entrada será uma lista de números inteiros, e a função deve verificar desta lista quais números são primos ou não. A saída da função deve ser uma lista que terá apenas os números que são primos; e caso não haja nenhum, a lista deve conter o único elemento 0 - ou seja, deve ser retornado [0]."
   ]
  },
  {
   "cell_type": "code",
   "execution_count": 132,
   "metadata": {},
   "outputs": [
    {
     "name": "stdout",
     "output_type": "stream",
     "text": [
      "Collecting mpmath\n",
      "  Downloading mpmath-1.3.0-py3-none-any.whl.metadata (8.6 kB)\n",
      "Downloading mpmath-1.3.0-py3-none-any.whl (536 kB)\n",
      "   ---------------------------------------- 0.0/536.2 kB ? eta -:--:--\n",
      "   ---------------------------------------- 536.2/536.2 kB 8.8 MB/s eta 0:00:00\n",
      "Installing collected packages: mpmath\n",
      "Successfully installed mpmath-1.3.0\n",
      "Note: you may need to restart the kernel to use updated packages.\n"
     ]
    }
   ],
   "source": [
    "%pip install mpmath"
   ]
  },
  {
   "cell_type": "code",
   "execution_count": 135,
   "metadata": {},
   "outputs": [
    {
     "name": "stdout",
     "output_type": "stream",
     "text": [
      "Collecting sympy\n",
      "  Downloading sympy-1.13.3-py3-none-any.whl.metadata (12 kB)\n",
      "Requirement already satisfied: mpmath<1.4,>=1.1.0 in c:\\users\\biama\\appdata\\local\\programs\\python\\python312\\lib\\site-packages (from sympy) (1.3.0)\n",
      "Downloading sympy-1.13.3-py3-none-any.whl (6.2 MB)\n",
      "   ---------------------------------------- 0.0/6.2 MB ? eta -:--:--\n",
      "   ------------------------------------- -- 5.8/6.2 MB 35.1 MB/s eta 0:00:01\n",
      "   ---------------------------------------- 6.2/6.2 MB 31.5 MB/s eta 0:00:00\n",
      "Installing collected packages: sympy\n",
      "Successfully installed sympy-1.13.3\n",
      "Note: you may need to restart the kernel to use updated packages.\n"
     ]
    }
   ],
   "source": [
    "%pip install sympy"
   ]
  },
  {
   "cell_type": "code",
   "execution_count": 144,
   "metadata": {},
   "outputs": [],
   "source": [
    "# import numpy as np\n",
    "# from sympy import isprime\n",
    "\n",
    "# def verifica_primo(nums):\n",
    "# \tprimos = []\n",
    "# \tfor n in nums:\n",
    "# \t\tif isprime(n) == True:\n",
    "# \t\t\tprimos.append(n)\n",
    "# \tif primos == []:\n",
    "# \t\treturn [0]\n",
    "# \telse:\n",
    "# \t    return primos\n",
    "\t\t\n",
    "\t\t# NÃO ACEITOU ESSA RESOLUÇÃO"
   ]
  },
  {
   "cell_type": "code",
   "execution_count": 164,
   "metadata": {},
   "outputs": [],
   "source": [
    "def ePrimo(n):\n",
    "    i = 2\n",
    "    while (n>i):\n",
    "        if (n % i == 0):\n",
    "            return False\n",
    "        i = i+1\n",
    "    return True\n",
    "\n",
    "def verifica_primo(nums):\n",
    "    primos = [num for num in nums if ePrimo(num) == True ]\n",
    "    return primos if primos else [0]"
   ]
  },
  {
   "cell_type": "code",
   "execution_count": 165,
   "metadata": {},
   "outputs": [
    {
     "data": {
      "text/plain": [
       "[5, 5, 5, 19, 17, 23, 23]"
      ]
     },
     "execution_count": 165,
     "metadata": {},
     "output_type": "execute_result"
    }
   ],
   "source": [
    "verifica_primo([5,5,5,19,17,4,16,30,14,10,14,23,12,23,8])\n",
    "#[5,5,5,19,17,23,23]"
   ]
  }
 ],
 "metadata": {
  "kernelspec": {
   "display_name": "Python 3",
   "language": "python",
   "name": "python3"
  },
  "language_info": {
   "codemirror_mode": {
    "name": "ipython",
    "version": 3
   },
   "file_extension": ".py",
   "mimetype": "text/x-python",
   "name": "python",
   "nbconvert_exporter": "python",
   "pygments_lexer": "ipython3",
   "version": "3.12.2"
  }
 },
 "nbformat": 4,
 "nbformat_minor": 2
}
