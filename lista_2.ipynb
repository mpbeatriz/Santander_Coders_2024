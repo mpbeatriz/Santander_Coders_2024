{
 "cells": [
  {
   "cell_type": "markdown",
   "metadata": {},
   "source": [
    "Retorna consoantes\n",
    "\n",
    "Muitas vezes quando estamos trabalhando com strings, pode ser bem útil usarmos compreensão de listas para processar caractere a caractere. Sabendo disso, crie uma função encontraConsoantes que retorna uma string com todas as consoantes (e apenas as consoantes!) de uma dada frase de input."
   ]
  },
  {
   "cell_type": "code",
   "execution_count": 1,
   "metadata": {},
   "outputs": [],
   "source": [
    "def encontraConsoantes(listaStrings):\n",
    "\tvogais = 'aeiouAEIOU'\n",
    "\tconsoante = []\n",
    "\tlistaStrings_lista = listaStrings.split()\n",
    "\n",
    "\tfor s in listaStrings_lista:\n",
    "\t\tfor letra in s:\n",
    "\t\t\tif letra not in vogais and letra.isalpha() == True:\n",
    "\t\t\t\tconsoante.append(letra)\n",
    "\treturn str(\"\".join(consoante))"
   ]
  },
  {
   "cell_type": "markdown",
   "metadata": {},
   "source": [
    "Usando Dicionário para Calcular Quadrado de Números\n",
    "\n",
    "Dicionários são estruturas de dados muito úteis e flexíveis, podendo, inclusive, ser construídos a partir de outras estruturas, como listas.\n",
    "\n",
    "Sabendo disso, crie uma função dicionarioQuadrados() que receba uma lista números e gera um dicionário, de forma que cada chave do dicionário seja um elemento da lista e cada valor seja este elemento ao quadrado."
   ]
  },
  {
   "cell_type": "code",
   "execution_count": 2,
   "metadata": {},
   "outputs": [],
   "source": [
    "def dicionarioQuadrados(listaA):\n",
    "\tdici_quadrado = {}\n",
    "\tfor num in listaA:\n",
    "\t\tdici_quadrado[num] = num**2\n",
    "\treturn dici_quadrado"
   ]
  },
  {
   "cell_type": "markdown",
   "metadata": {},
   "source": [
    "Filtrando elementos por funções lambda\n",
    "\n",
    "Em programação, temos que pensar não apenas na implementação do código propriamente dita para execução correta da tarefa desejada, como também na melhor forma de realizar esta implementação. Com isso, paradigmas de programação foram criados para auxiliar o programador a pensar diferente.\n",
    "\n",
    "Um desses paradigmas é a programação funcional, cujo objetivo é aumentar o determinismo do programa de forma que, caso o programa seja escalável e se torne muito grande, os desenvolvedores não percam o controle do código. Uma forma de fazer programação funcional é por meio de funções lambdas, também conhecidas como \"funções anônimas\", tendo esse nome porque não precisam ser declaradas com um nome.\n",
    "\n",
    "Sabendo disso, crie uma função filtraElementos() que recebe uma lista e utiliza função lambda para filtrar os elementos maiores que 10, ou seja, a função deve retornar uma lista apenas com estes elementos maiores que 10.\n",
    "\n",
    "OBS: em um cenário real, a função filtraElementos() seria utilizada para outras funcionalidades também além da utilização da lambda, de forma a melhorar o determinismo do código."
   ]
  },
  {
   "cell_type": "code",
   "execution_count": null,
   "metadata": {},
   "outputs": [],
   "source": [
    "def filtraElementos(listaA):\n",
    "\tlista_filtrada = list(filter(lambda x: x>10, listaA))\n",
    "\n",
    "\treturn lista_filtrada"
   ]
  },
  {
   "cell_type": "markdown",
   "metadata": {},
   "source": [
    "Expressões geradoras para tuplas\n",
    "\n",
    "Também é possível utilizar expressão geradoras para construir tuplas. Sendo assim, crie a função getQuadrado() que recebe uma tupla de elementos numéricos, e retorna uma tupla com o quadrado de cada elemento da tupla original."
   ]
  },
  {
   "cell_type": "code",
   "execution_count": 14,
   "metadata": {},
   "outputs": [],
   "source": [
    "# CORRIGIDO\n",
    "\n",
    "def getQuadrado(tuplaA):\n",
    "\ttupla_quadrado = tuple(map(lambda x: x**2, tuplaA))\n",
    "\treturn tupla_quadrado"
   ]
  },
  {
   "cell_type": "code",
   "execution_count": 15,
   "metadata": {},
   "outputs": [
    {
     "data": {
      "text/plain": [
       "(441, 17956, 22500, 11881, 2500)"
      ]
     },
     "execution_count": 15,
     "metadata": {},
     "output_type": "execute_result"
    }
   ],
   "source": [
    "getQuadrado((21, 134, 150, 109, 50))"
   ]
  },
  {
   "cell_type": "code",
   "execution_count": null,
   "metadata": {},
   "outputs": [],
   "source": [
    "# test_getQuadrado\n",
    "#     self.assertEqual(getQuadrado((21, 134, 150, 109, 50)),(441, 17956, 22500, 11881, 2500))\n",
    "# AssertionError: [441, 17956, 22500, 11881, 2500] != (441, 17956, 22500, 11881, 2500)"
   ]
  },
  {
   "cell_type": "markdown",
   "metadata": {},
   "source": [
    "Compreensão de dicionários\n",
    "\n",
    "Da mesma forma que utilizamos a sintaxe \"pythonica\" de compreensão de listas, podemos fazer uma estrutura semelhante para gerar dicionários. Sendo assim, crie uma função mediaAlunosParaDicionario() que receba uma lista de listas, em que o primeiro elemento é uma lista com os nomes dos alunos; e o segundo elemento é uma lista com suas respectivas médias. Utilizando compreensão de dicionários, armazene estes dados no dicionário de forma que cada aluno seja a chave e sua média seja o valor.\n",
    "\n",
    "OBS: caso a nota não esteja numérica, é necessário tratar os valores para tipos numéricos!"
   ]
  },
  {
   "cell_type": "code",
   "execution_count": 16,
   "metadata": {},
   "outputs": [],
   "source": [
    "# SEM COMPREENSAO DE DICIONARIO\n",
    "\n",
    "# def mediaAlunosParaDicionario(listaAlunos):\n",
    "#     dicio_medias = {}\n",
    "#     x = 0\n",
    "#     for l in listaAlunos:\n",
    "#         while x < (len(listaAlunos)+1):\n",
    "#             dicio_medias[listaAlunos[0][x]] = (listaAlunos[1][x])\n",
    "#             x += 1\n",
    "#     return dicio_medias"
   ]
  },
  {
   "cell_type": "code",
   "execution_count": 11,
   "metadata": {},
   "outputs": [],
   "source": [
    "# def mediaAlunosParaDicionario(listaAlunos):\n",
    "#     x=0\n",
    "#     dicio_medias = {}\n",
    "#     for i in range(len(listaAlunos[0])):\n",
    "#         dicio_medias[listaAlunos[0][i]] = (listaAlunos[1][i])\n",
    "#     return dicio_medias"
   ]
  },
  {
   "cell_type": "code",
   "execution_count": 16,
   "metadata": {},
   "outputs": [],
   "source": [
    "# VERSÃO FINAL\n",
    "# CORRIGIDO\n",
    "\n",
    "def mediaAlunosParaDicionario(listaAlunos):\n",
    "    dicio_medias = {listaAlunos[0][i] : listaAlunos[1][i] for i in range(len(listaAlunos[0]))}\n",
    "    return dicio_medias"
   ]
  },
  {
   "cell_type": "code",
   "execution_count": 17,
   "metadata": {},
   "outputs": [
    {
     "data": {
      "text/plain": [
       "{'Diego': 9.0, 'Thais': 8.0, 'Marilia': 8.0, 'Lucas': 6.5, 'Cecilia': 7.0}"
      ]
     },
     "execution_count": 17,
     "metadata": {},
     "output_type": "execute_result"
    }
   ],
   "source": [
    "mediaAlunosParaDicionario([[\"Diego\", \"Thais\", \"Marilia\", \"Lucas\", \"Cecilia\"], [9.0, 8.0, 8.0, 6.5, 7.0]])"
   ]
  },
  {
   "cell_type": "code",
   "execution_count": null,
   "metadata": {},
   "outputs": [],
   "source": [
    "# test_mediaAlunosParaDicionario\n",
    "#     self.assertEqual(mediaAlunosParaDicionario([[\"Diego\", \"Thais\", \"Marilia\", \"Lucas\", \"Cecilia\"], [9.0, 8.0, 8.0, 6.5, 7.0]]), {\"Diego\": 9.0, \"Thais\": 8.0, \"Marilia\": 8.0, \"Lucas\": 6.5, \"Cecilia\": 7.0})\n",
    "# AssertionError: {'Diego': 9.0, 'Thais': 8.0, 'Marilia': 8.0} != {'Diego': 9.0, 'Thais': 8.0, 'Marilia': 8.0, 'Lucas': 6.5, 'Cecilia': 7.0}\n",
    "# - {'Diego': 9.0, 'Marilia': 8.0, 'Thais': 8.0}\n",
    "# + {'Cecilia': 7.0, 'Diego': 9.0, 'Lucas': 6.5, 'Marilia': 8.0, 'Thais': 8.0}"
   ]
  },
  {
   "cell_type": "markdown",
   "metadata": {},
   "source": [
    "Encontrando números divisíveis por 7\n",
    "\n",
    "Uma forma \"pythonica\" de iterarmos por listas é por meio de compreensão de listas, que substitui o uso de um laço de repetição for tal como implementamos tradicionalmente para a criação de novas listas.\n",
    "\n",
    "Sabendo disso, digamos que em um sistema desejemos buscar, entre 1000 usuários, apenas aqueles cujo ID é divisível por 7. Faça uma função numerosDiv7() para este sistema que receba uma lista A de 1000 elementos e retorne uma lista apenas com os elementos de A que são divisíveis por 7.\n",
    "\n",
    "OBS: Caso existam elementos repetidos na lista, a saída deverá exibir apenas os elementos únicos divisíveis por 7. E se não houver elementos divisíveis por 7, o programa deve retornar uma lista vazia."
   ]
  },
  {
   "cell_type": "code",
   "execution_count": 3,
   "metadata": {},
   "outputs": [],
   "source": [
    "def numerosDiv7(listaA):\n",
    "    lista_sete = list(filter(lambda x: x % 7 ==0, listaA))\n",
    "    if len(lista_sete) > 0:\n",
    "        lista_sete1 = (sorted(list(set(lista_sete))))\n",
    "        return lista_sete1\n",
    "    else:\n",
    "        return []"
   ]
  },
  {
   "cell_type": "markdown",
   "metadata": {},
   "source": [
    "Dicionário cujos valores são listas\n",
    "\n",
    "Em determinadas situações, é necessário agrupar informações de acordo com alguma dada característica para facilitar o acesso a essas informações. Uma estrutura em python que armazena informações seguindo essa organização são dicionários.\n",
    "\n",
    "Um exemplo de uso comum de dicionários são cadastros de clientes, em que, por exemplo, um elemento do dicionário pode ser o nome dos clientes, outro elemento o emprego outro o estado de habitação. Quando quisermos utilizar apenas as informações de estado, selecionamos apenas este elemento do dicionário, utilizando a respectiva chave como indexador do dicionário.\n",
    "\n",
    "Sabendo disso, crie uma função mediaPrecoCelular() que receba um dicionário que possui a chave \"valor\", e retorne uma lista com: a média dos valores existentes nesta chave, o celular mais barato, e o mais caro, nesta ordem."
   ]
  },
  {
   "cell_type": "code",
   "execution_count": 88,
   "metadata": {},
   "outputs": [],
   "source": [
    "# retorna lista simples\n",
    "def mediaPrecoCelular(dictCelulares):\n",
    "\tlista_valores = [(sum(dictCelulares[\"valor\"]) / len((dictCelulares[\"valor\"]))), min(dictCelulares[\"valor\"]), max(dictCelulares[\"valor\"])]\n",
    "\treturn lista_valores\n",
    "\t"
   ]
  },
  {
   "cell_type": "code",
   "execution_count": 65,
   "metadata": {},
   "outputs": [],
   "source": [
    "# lista de lista\n",
    "# def mediaPrecoCelular(dictCelulares):\n",
    "# \tlista_valores = [[int(sum(i) / len(i)), min(i), max(i)] for i in dictCelulares.values()]\n",
    "# \treturn lista_valores"
   ]
  },
  {
   "cell_type": "code",
   "execution_count": 89,
   "metadata": {},
   "outputs": [
    {
     "data": {
      "text/plain": [
       "[703.0, 622, 790]"
      ]
     },
     "execution_count": 89,
     "metadata": {},
     "output_type": "execute_result"
    }
   ],
   "source": [
    "mediaPrecoCelular({\"dispositivo\": [\"a\", \"b\", \"c\", \"d\", \"e\"], \"valor\":[638, 622, 784, 681, 790]})"
   ]
  },
  {
   "cell_type": "code",
   "execution_count": null,
   "metadata": {},
   "outputs": [],
   "source": [
    "# test_mediaPrecoCelular\n",
    "#     self.assertEqual(mediaPrecoCelular({\"dispositivo\": [\"a\", \"b\", \"c\", \"d\", \"e\"],  \"valor\":[638, 622, 784, 681, 790]}), [703, 622, 790])\n",
    "# AssertionError: None != [703, 622, 790]"
   ]
  },
  {
   "cell_type": "markdown",
   "metadata": {},
   "source": [
    "Remoção de espaços extras de strings\n",
    "\n",
    "É comum em sistemas de cadastro, os clientes preencherem dados com caracteres ou espaços indesejáveis. Sendo assim, implemente uma função remove_espaco(listaStrings) que recebe uma lista de strings e retire espaços extras que possam haver no início, meio ou no fim de uma string.\n",
    "\n",
    "Por exemplo,\n",
    "\n",
    "entrada: [\"  string\", \"  exemplo  \", \"do   exercício\"] saída: [\"string\", \"exemplo\", \"do exercício\"]"
   ]
  },
  {
   "cell_type": "code",
   "execution_count": 1,
   "metadata": {},
   "outputs": [],
   "source": [
    "def remove_espacos(listaStrings):\n",
    "\tlista_removida = []\n",
    "\tfor s in listaStrings:\n",
    "\t\ts = s.split()\n",
    "\t\tlista_removida.append(\" \".join(s))\n",
    "\treturn lista_removida"
   ]
  },
  {
   "cell_type": "code",
   "execution_count": 2,
   "metadata": {},
   "outputs": [
    {
     "data": {
      "text/plain": [
       "['string', 'exemplo', 'do exercício']"
      ]
     },
     "execution_count": 2,
     "metadata": {},
     "output_type": "execute_result"
    }
   ],
   "source": [
    "remove_espacos([\"  string\", \"  exemplo  \", \"do   exercício\"])"
   ]
  }
 ],
 "metadata": {
  "kernelspec": {
   "display_name": "Python 3",
   "language": "python",
   "name": "python3"
  },
  "language_info": {
   "codemirror_mode": {
    "name": "ipython",
    "version": 3
   },
   "file_extension": ".py",
   "mimetype": "text/x-python",
   "name": "python",
   "nbconvert_exporter": "python",
   "pygments_lexer": "ipython3",
   "version": "3.12.2"
  }
 },
 "nbformat": 4,
 "nbformat_minor": 2
}
