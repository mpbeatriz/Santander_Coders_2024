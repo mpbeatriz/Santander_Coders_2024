{
 "cells": [
  {
   "cell_type": "markdown",
   "metadata": {},
   "source": [
    "Produto mais vendido no arquivo\n",
    "\n",
    "Comumente precisamos lidar com informações que já foram armazenadas em outros locais antes da execução do programa, como uma planilha do excel, de forma a fazer algum processamento com estas informações. Digamos, por exemplo, que uma empresa tenha armazenado dados sobre as vendas dos últimos 5 anos e queira saber a média anual dessas vendas. Podemos acessar estes dados por meio da leitura de arquivos no python para, posteriormente, realizar o cálculo da média. Similarmente, também podemos salvar informações em arquivos no Python para acesso futuro. Utilizando o mesmo exemplo do histórico de vendas, podemos realizar os cálculos de média anual e salvá-lo em um arquivo para enviar para o gerente de vendas.\n",
    "\n",
    "Sabendo disso, crie uma função produto_mais_vendido() para ler um arquivo csv com as vendas de uma loja e retornar o nome do produto mais vendido (em termos de quantidades de vendas) conforme registrado no arquivo. A função receberá diretamente a string lida de um arquivo csv que usa \", \" como separador. No arquivo, temos as seguintes colunas: data, produto, quantidade, valor."
   ]
  },
  {
   "cell_type": "code",
   "execution_count": 6,
   "metadata": {},
   "outputs": [],
   "source": [
    "import csv\n",
    "def produto_mais_vendido(vendas):\n",
    "\t#print(vendas.split())\n",
    "    colunas = [\"data\", \"produto\", \"quantidade\", \"valor\"]\n",
    "    dic_vendas = csv.DictWriter(vendas, fieldnames=colunas)\n",
    "    writer.writeheader()\n",
    "    print(dic_vendas)"
   ]
  },
  {
   "cell_type": "code",
   "execution_count": 7,
   "metadata": {},
   "outputs": [
    {
     "ename": "TypeError",
     "evalue": "argument 1 must have a \"write\" method",
     "output_type": "error",
     "traceback": [
      "\u001b[1;31m---------------------------------------------------------------------------\u001b[0m",
      "\u001b[1;31mTypeError\u001b[0m                                 Traceback (most recent call last)",
      "Cell \u001b[1;32mIn[7], line 1\u001b[0m\n\u001b[1;32m----> 1\u001b[0m \u001b[43mproduto_mais_vendido\u001b[49m\u001b[43m(\u001b[49m\u001b[38;5;124;43m\"\u001b[39;49m\u001b[38;5;124;43mdata, produto, quantidade, valor\u001b[39;49m\u001b[38;5;130;43;01m\\n\u001b[39;49;00m\u001b[38;5;124;43m20/10/2022, prato, 15, 20.00\u001b[39;49m\u001b[38;5;130;43;01m\\n\u001b[39;49;00m\u001b[38;5;124;43m19/20/2022, copo, 5, 5\u001b[39;49m\u001b[38;5;130;43;01m\\n\u001b[39;49;00m\u001b[38;5;124;43m07/07/2022, lampada, 3, 68.90\u001b[39;49m\u001b[38;5;124;43m\"\u001b[39;49m\u001b[43m)\u001b[49m\n",
      "Cell \u001b[1;32mIn[6], line 5\u001b[0m, in \u001b[0;36mproduto_mais_vendido\u001b[1;34m(vendas)\u001b[0m\n\u001b[0;32m      2\u001b[0m \u001b[38;5;28;01mdef\u001b[39;00m \u001b[38;5;21mproduto_mais_vendido\u001b[39m(vendas):\n\u001b[0;32m      3\u001b[0m \t\u001b[38;5;66;03m#print(vendas.split())\u001b[39;00m\n\u001b[0;32m      4\u001b[0m     colunas \u001b[38;5;241m=\u001b[39m [\u001b[38;5;124m\"\u001b[39m\u001b[38;5;124mdata\u001b[39m\u001b[38;5;124m\"\u001b[39m, \u001b[38;5;124m\"\u001b[39m\u001b[38;5;124mproduto\u001b[39m\u001b[38;5;124m\"\u001b[39m, \u001b[38;5;124m\"\u001b[39m\u001b[38;5;124mquantidade\u001b[39m\u001b[38;5;124m\"\u001b[39m, \u001b[38;5;124m\"\u001b[39m\u001b[38;5;124mvalor\u001b[39m\u001b[38;5;124m\"\u001b[39m]\n\u001b[1;32m----> 5\u001b[0m     dic_vendas \u001b[38;5;241m=\u001b[39m \u001b[43mcsv\u001b[49m\u001b[38;5;241;43m.\u001b[39;49m\u001b[43mDictWriter\u001b[49m\u001b[43m(\u001b[49m\u001b[43mvendas\u001b[49m\u001b[43m,\u001b[49m\u001b[43m \u001b[49m\u001b[43mfieldnames\u001b[49m\u001b[38;5;241;43m=\u001b[39;49m\u001b[43mcolunas\u001b[49m\u001b[43m)\u001b[49m\n\u001b[0;32m      6\u001b[0m     writer\u001b[38;5;241m.\u001b[39mwriteheader()\n\u001b[0;32m      7\u001b[0m     \u001b[38;5;28mprint\u001b[39m(dic_vendas)\n",
      "File \u001b[1;32mc:\\Users\\biama\\AppData\\Local\\Programs\\Python\\Python312\\Lib\\csv.py:149\u001b[0m, in \u001b[0;36mDictWriter.__init__\u001b[1;34m(self, f, fieldnames, restval, extrasaction, dialect, *args, **kwds)\u001b[0m\n\u001b[0;32m    146\u001b[0m     \u001b[38;5;28;01mraise\u001b[39;00m \u001b[38;5;167;01mValueError\u001b[39;00m(\u001b[38;5;124m\"\u001b[39m\u001b[38;5;124mextrasaction (\u001b[39m\u001b[38;5;132;01m%s\u001b[39;00m\u001b[38;5;124m) must be \u001b[39m\u001b[38;5;124m'\u001b[39m\u001b[38;5;124mraise\u001b[39m\u001b[38;5;124m'\u001b[39m\u001b[38;5;124m or \u001b[39m\u001b[38;5;124m'\u001b[39m\u001b[38;5;124mignore\u001b[39m\u001b[38;5;124m'\u001b[39m\u001b[38;5;124m\"\u001b[39m\n\u001b[0;32m    147\u001b[0m                      \u001b[38;5;241m%\u001b[39m extrasaction)\n\u001b[0;32m    148\u001b[0m \u001b[38;5;28mself\u001b[39m\u001b[38;5;241m.\u001b[39mextrasaction \u001b[38;5;241m=\u001b[39m extrasaction\n\u001b[1;32m--> 149\u001b[0m \u001b[38;5;28mself\u001b[39m\u001b[38;5;241m.\u001b[39mwriter \u001b[38;5;241m=\u001b[39m \u001b[43mwriter\u001b[49m\u001b[43m(\u001b[49m\u001b[43mf\u001b[49m\u001b[43m,\u001b[49m\u001b[43m \u001b[49m\u001b[43mdialect\u001b[49m\u001b[43m,\u001b[49m\u001b[43m \u001b[49m\u001b[38;5;241;43m*\u001b[39;49m\u001b[43margs\u001b[49m\u001b[43m,\u001b[49m\u001b[43m \u001b[49m\u001b[38;5;241;43m*\u001b[39;49m\u001b[38;5;241;43m*\u001b[39;49m\u001b[43mkwds\u001b[49m\u001b[43m)\u001b[49m\n",
      "\u001b[1;31mTypeError\u001b[0m: argument 1 must have a \"write\" method"
     ]
    }
   ],
   "source": [
    "produto_mais_vendido(\"data, produto, quantidade, valor\\n20/10/2022, prato, 15, 20.00\\n19/20/2022, copo, 5, 5\\n07/07/2022, lampada, 3, 68.90\")"
   ]
  },
  {
   "cell_type": "code",
   "execution_count": null,
   "metadata": {},
   "outputs": [],
   "source": [
    "# test_produto_mais_vendido\n",
    "#     self.assertEqual(produto_mais_vendido(\"data, produto, quantidade, valor\\n20/10/2022, prato, 15, 20.00\\n19/20/2022, copo, 5, 5\\n07/07/2022, lampada, 3, 68.90\"), \"prato\")\n",
    "# AssertionError: None != 'prato'"
   ]
  },
  {
   "cell_type": "markdown",
   "metadata": {},
   "source": [
    "Paridade de números por funções lambda\n",
    "\n",
    "Em programação, temos que pensar não apenas na implementação do código propriamente dita para execução correta da tarefa desejada, como também na melhor forma de realizar esta implementação. Com isso, paradigmas de programação foram criados para auxiliar o programador a pensar diferente.\n",
    "\n",
    "Um desses paradigmas é a programação funcional, cujo objetivo é aumentar o determinismo do programa de forma que, caso o programa seja escalável e se torne muito grande, os desenvolvedores não percam o controle do código. Uma forma de fazer programação funcional é por meio de funções lambdas, também conhecidas como \"funções anônimas\", tendo esse nome porque não precisam ser declaradas com um nome.\n",
    "\n",
    "Sabendo disso, crie uma função div2() que recebe uma lista numérica e utiliza uma função lambda para retornar uma lista apenas com elementos da lista original que sejam divisíveis por 2.\n",
    "\n",
    "OBS: em um cenário real, a funçãodiv2() seria utilizada para outras funcionalidades também além da utilização da lambda, de forma a melhorar o determinismo do código."
   ]
  },
  {
   "cell_type": "code",
   "execution_count": 1,
   "metadata": {},
   "outputs": [],
   "source": [
    "def div2(listaA):\n",
    "\tlista2 = (list(filter(lambda x: x % 2 == 0, listaA)))\n",
    "\treturn lista2"
   ]
  },
  {
   "cell_type": "markdown",
   "metadata": {},
   "source": [
    "MapReduce para cálculo de soma dos quadrados\n",
    "\n",
    "Em programação, temos que pensar não apenas na implementação do código propriamente dita para execução correta da tarefa desejada, como também na melhor forma de realizar esta implementação. Com isso, paradigmas de programação foram criados para auxiliar o programador a pensar diferente.\n",
    "\n",
    "Um desses paradigmas é o uso de funções de alta ordem, o que permite que realizemos diversas operações em coleções (listas, tuplas, arrays, etc) sem o uso de loops explicitamente.\n",
    "\n",
    "Um dos usos mais comuns é o uso de funções reduce, responsáveis por acumular uma operação ao longo de uma coleção. Essa função é muito utilizada principalmente em ambientes big data juntamente com a função map.\n",
    "\n",
    "Sabendo disso, crie uma função ger_reduce() que recebe uma lista numérica, e retorna a soma dos quadrados destes números.\n",
    "\n",
    "Obs.: lembre-se que, em Python, devemos importar a função reduce do módulo functools!"
   ]
  },
  {
   "cell_type": "code",
   "execution_count": null,
   "metadata": {},
   "outputs": [],
   "source": [
    "from functools import reduce\n",
    "def ger_reduce(dictA):\n",
    "\tlista_quadrado = list(map(lambda x: x**2, dictA))\n",
    "\tlista_soma = reduce(lambda x,y: x + y, lista_quadrado)\n",
    "\treturn lista_soma"
   ]
  },
  {
   "cell_type": "markdown",
   "metadata": {},
   "source": [
    "Mudança do delimitador do csv\n",
    "\n",
    "Comumente precisamos lidar com informações que já foram armazenadas em outros locais antes da execução do programa, como uma planilha do excel, de forma a fazer algum processamento com estas informações. Digamos, por exemplo, que uma empresa tenha armazenado dados sobre as vendas dos últimos 5 anos e queira saber a média anual dessas vendas, podemos acessar estes dados por meio da leitura de arquivos no python para, posteriormente, realizar o cálculo da média. Similarmente, também podemos salvar informações em arquivos no Python para acesso futuro. Utilizando o mesmo exemplo do histórico de vendas, podemos realizar os cálculos de média anual e salvá-lo em um arquivo para enviar para o gerente de vendas.\n",
    "\n",
    "Sabendo disso, supondo que uma empresa armazenou seu histórico de vendas como um arquivo csv usando \", \" como delimitador, e agora deseje salvar um novo arquivo csv cujos valores sehjam separados por \"\\t\". Faça uma funçãoconverte_sep() que receba uma string que contenha o conteúdo original do csv e retorna a string do arquivo csv com o novo separador."
   ]
  },
  {
   "cell_type": "code",
   "execution_count": 50,
   "metadata": {},
   "outputs": [],
   "source": [
    "def converte_sep(valores):\n",
    "\treturn valores.replace(\", \", \"\\t\")\n",
    "\t"
   ]
  },
  {
   "cell_type": "code",
   "execution_count": 51,
   "metadata": {},
   "outputs": [
    {
     "data": {
      "text/plain": [
       "'data\\tproduto\\tquantidade\\tvalor\\tvalor_unitario\\n20/10/2022\\tventilador\\t1\\t120.00\\t120.00\\n19/20/2022\\tcadeira\\t1\\t335.55\\t335.55\\n07/07/2022\\tlampada\\t3\\t68.90\\t22.96'"
      ]
     },
     "execution_count": 51,
     "metadata": {},
     "output_type": "execute_result"
    }
   ],
   "source": [
    "converte_sep(\"data, produto, quantidade, valor, valor_unitario\\n20/10/2022, ventilador, 1, 120.00, 120.00\\n19/20/2022, cadeira, 1, 335.55, 335.55\\n07/07/2022, lampada, 3, 68.90, 22.96\")"
   ]
  },
  {
   "cell_type": "code",
   "execution_count": null,
   "metadata": {},
   "outputs": [],
   "source": [
    "# test_converte_sep\n",
    "#     self.assertEqual(converte_sep(\"data, produto, quantidade, valor, valor_unitario\\n20/10/2022, ventilador, 1, 120.00, 120.00\\n19/20/2022, cadeira, 1, 335.55, 335.55\\n07/07/2022, lampada, 3, 68.90, 22.96\"), \"data\\tproduto\\tquantidade\\tvalor\\tvalor_unitario\\n20/10/2022\\tventilador\\t1\\t120.00\\t120.00\\n19/20/2022\\tcadeira\\t1\\t335.55\\t335.55\\n07/07/2022\\tlampada\\t3\\t68.90\\t22.96\")\n",
    "# AssertionError: None != 'data\\tproduto\\tquantidade\\tvalor\\tvalor_[125 chars]2.96'\n",
    "# Solução\n",
    "\n",
    "# Executar\n"
   ]
  },
  {
   "cell_type": "markdown",
   "metadata": {},
   "source": [
    "Utilizando função lambda para calcular quadrado de números\n",
    "\n",
    "Em programação, temos que pensar não apenas na implementação do código propriamente dita para execução correta da tarefa desejada, como também na melhor forma de realizar esta implementação. Com isso, paradigmas de programação foram criados para auxiliar o programador a pensar diferente.\n",
    "\n",
    "Um desses paradigmas é a programação funcional, cujo objetivo é aumentar o determinismo do programa de forma que, caso o programa seja escalável e se torne muito grande, os desenvolvedores não percam o controle do código. Uma forma de fazer programação funcional é por meio de funções lambdas, também conhecidas como \"funções anônimas\", tendo esse nome porque não precisam ser declaradas com um nome.\n",
    "\n",
    "Sabendo disso, crie uma função calcula_quadrado() que recebe uma lista e retorna os elementos desta lista ao quadrado, utilizando função lambda.\n",
    "\n",
    "OBS: em um cenário real, a função calcula_quadrado() seria utilizada para outras funcionalidades também além da utilização da lambda, de forma a melhorar o determinismo do código.\n",
    "\n",
    "OBS2: recomendável uso da função map."
   ]
  },
  {
   "cell_type": "code",
   "execution_count": null,
   "metadata": {},
   "outputs": [],
   "source": [
    "def calcula_quadrado(listaA):\n",
    "\treturn list(map(lambda x: x**2, listaA))"
   ]
  },
  {
   "cell_type": "markdown",
   "metadata": {},
   "source": [
    "Dados tabulares como lista de listas\n",
    "\n",
    "Em python, podemos trabalhar com dados tabulares em uma estrutura organizada na forma de lista de listas.\n",
    "\n",
    "Sabendo disso, crie uma função min_max_temperatura() que receba uma lista listas, cada uma com dois elementos: uma data, e uma temperatura. A função deve retornar uma lista com dois elementos: a data de temperatura máxima, e a data de temperatura mínima, nesta ordem."
   ]
  },
  {
   "cell_type": "code",
   "execution_count": 55,
   "metadata": {},
   "outputs": [],
   "source": [
    "# corrigido\n",
    "\n",
    "def min_max_temperatura(temperaturas):\n",
    "\ttemperaturas.sort(key=lambda x:x[1])\n",
    "\treturn [temperaturas[len(temperaturas)-1]]"
   ]
  },
  {
   "cell_type": "code",
   "execution_count": 56,
   "metadata": {},
   "outputs": [
    {
     "data": {
      "text/plain": [
       "[['27/11/2022', 31]]"
      ]
     },
     "execution_count": 56,
     "metadata": {},
     "output_type": "execute_result"
    }
   ],
   "source": [
    "min_max_temperatura([[\"25/11/2022\", 30], [\"26/11/2022\", 27], [\"27/11/2022\", 31],[\"28/11/2022\", 29], [\"29/11/2022\", 20]])"
   ]
  },
  {
   "cell_type": "code",
   "execution_count": null,
   "metadata": {},
   "outputs": [],
   "source": [
    "# test_min_max_temperatura\n",
    "#     self.assertEqual(min_max_temperatura([[\"25/11/2022\", 30], [\"26/11/2022\", 27], [\"27/11/2022\", 31],[\"28/11/2022\", 29], [\"29/11/2022\", 20]]), [\"27/11/2022\", \"29/11/2022\"])\n",
    "# AssertionError: Lists differ: [['27/11/2022', 31], ['29/11/2022', 20]] != ['27/11/2022', '29/11/2022']\n",
    "\n",
    "# First differing element 0:\n",
    "# ['27/11/2022', 31]\n",
    "# '27/11/2022'\n",
    "\n",
    "# - [['27/11/2022', 31], ['29/11/2022', 20]]\n",
    "# ? -               ------            ---- -\n",
    "\n",
    "# + ['27/11/2022', '29/11/2022']"
   ]
  },
  {
   "cell_type": "markdown",
   "metadata": {},
   "source": [
    "Total de vendas a partir de dados em arquivo\n",
    "\n",
    "Comumente precisamos lidar com informações que já foram armazenadas em outros locais antes da execução do programa, como uma planilha do excel, de forma a fazer algum processamento com estas informações. Digamos, por exemplo, que uma empresa tenha armazenado dados sobre as vendas dos últimos 5 anos e queira saber a média anual dessas vendas. Podemos acessar estes dados por meio da leitura de arquivos no python para, posteriormente, realizar o cálculo da média. Similarmente, também podemos salvar informações em arquivos no Python para acesso futuro. Utilizando o mesmo exemplo do histórico de vendas, podemos realizar os cálculos de média anual e salvá-lo em um arquivo para enviar para o gerente de vendas.\n",
    "\n",
    "Sabendo disso, crie uma função media_vendas() para ler um arquivo csv e retornar o total de vendas no período. A função receberá diretamente a string lida de um arquivo csv que usa \", \" como separador. No arquivo, temos as seguintes colunas: data, produto, quantidade, valor. Note que a coluna \"valor\" corresponde ao preço unitário de cada produto, não o valor total da compra. Nosso objetivo é calcular o total de vendas, considerando todos os produtos registrados no arquivo.\n",
    "\n",
    "Obs.: arredonde a resposta final para duas casas decimais."
   ]
  },
  {
   "cell_type": "code",
   "execution_count": null,
   "metadata": {},
   "outputs": [],
   "source": [
    "def media_vendas(vendas):\n",
    "    pass\n",
    "# \twith open (vendas, \"r\" as arquivo):\n",
    "# \t\tleitor_csv = csv.reader(vendas)\n",
    "# \t\tfor linha in leitor_csv:"
   ]
  },
  {
   "cell_type": "code",
   "execution_count": null,
   "metadata": {},
   "outputs": [],
   "source": []
  },
  {
   "cell_type": "code",
   "execution_count": null,
   "metadata": {},
   "outputs": [],
   "source": [
    "# test_l4wsd9j7\n",
    "# Traceback (most recent call last):\n",
    "#   File \"/var/lang/lib/python3.9/unittest/loader.py\", line 436, in _find_test_path\n",
    "#     module = self._get_module_from_name(name)\n",
    "#   File \"/var/lang/lib/python3.9/unittest/loader.py\", line 377, in _get_module_from_name\n",
    "#     __import__(name)\n",
    "#   File \"/tmp/test_l4wsd9j7.py\", line 2\n",
    "#     \twith open (vendas, \"r\" as arquivo):\n",
    "#     \t                       ^\n",
    "# SyntaxError: invalid syntax\n"
   ]
  },
  {
   "cell_type": "markdown",
   "metadata": {},
   "source": [
    "Subtraindo elementos usando funções de alta ordem\n",
    "\n",
    "Em programação, temos que pensar não apenas na implementação do código propriamente dita para execução correta da tarefa desejada, como também na melhor forma de realizar esta implementação. Com isso, paradigmas de programação foram criados para auxiliar o programador a pensar diferente.\n",
    "\n",
    "Um desses paradigmas é o uso de funções de alta ordem, o que permite que realizemos diversas operações em coleções (listas, tuplas, arrays, etc) sem o uso de loops explicitamente.\n",
    "\n",
    "Um dos usos mais comuns é o uso de funções reduce, responsáveis por acumular uma operação ao longo de uma coleção. Sabendo disso, implemente uma função reduceSub() que recebe uma lista, e então faz uso do reduce para realizar a subtração dos números da lista com base no valor inicial 3."
   ]
  },
  {
   "cell_type": "code",
   "execution_count": 24,
   "metadata": {},
   "outputs": [],
   "source": [
    "from functools import reduce\n",
    "\n",
    "def reduceSub(lista):\n",
    "\tdef sub(x,y):\n",
    "\t\treturn x-y\n",
    "\t\n",
    "\treturn reduce(sub, lista, 3)\n",
    "\t"
   ]
  },
  {
   "cell_type": "code",
   "execution_count": 25,
   "metadata": {},
   "outputs": [
    {
     "data": {
      "text/plain": [
       "-22"
      ]
     },
     "execution_count": 25,
     "metadata": {},
     "output_type": "execute_result"
    }
   ],
   "source": [
    "reduceSub([1,3,5,7,9])"
   ]
  },
  {
   "cell_type": "code",
   "execution_count": 26,
   "metadata": {},
   "outputs": [
    {
     "data": {
      "text/plain": [
       "-30"
      ]
     },
     "execution_count": 26,
     "metadata": {},
     "output_type": "execute_result"
    }
   ],
   "source": [
    "reduceSub([\n",
    "   9,\n",
    "   10,\n",
    "   10,\n",
    "   3,\n",
    "   1\n",
    " ])"
   ]
  },
  {
   "cell_type": "code",
   "execution_count": null,
   "metadata": {},
   "outputs": [],
   "source": [
    "# Entrada:\n",
    "# [1,\n",
    "#   3,\n",
    "#   5,\n",
    "#   7,\n",
    "#   9]\n",
    "# Expectativa:\n",
    "# -122\n",
    "# Resultado:\n",
    "# null\n",
    "# Falha\n",
    "# Entrada:\n",
    "# [\n",
    "#   9,\n",
    "#   10,\n",
    "#   10,\n",
    "#   3,\n",
    "#   1\n",
    "# ]\n",
    "# Expectativa:\n",
    "# -30\n",
    "# Resultado:\n",
    "# null\n",
    "# Falha\n",
    "# Entrada:\n",
    "# [\n",
    "#   6,\n",
    "#   2,\n",
    "#   4,\n",
    "#   10,\n",
    "#   3\n",
    "# ]\n",
    "# Expectativa:\n",
    "# -22\n",
    "# Resultado:\n",
    "# null"
   ]
  }
 ],
 "metadata": {
  "kernelspec": {
   "display_name": "Python 3",
   "language": "python",
   "name": "python3"
  },
  "language_info": {
   "codemirror_mode": {
    "name": "ipython",
    "version": 3
   },
   "file_extension": ".py",
   "mimetype": "text/x-python",
   "name": "python",
   "nbconvert_exporter": "python",
   "pygments_lexer": "ipython3",
   "version": "3.12.2"
  }
 },
 "nbformat": 4,
 "nbformat_minor": 2
}
