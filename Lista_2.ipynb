{
 "cells": [
  {
   "cell_type": "markdown",
   "metadata": {},
   "source": [
    "Crie uma classe de nome Calculadora com quatro funcoes, soma, subtracao, divisao, e multiplicacao, e recebe dois numeros float e retorna um número também float. A restrição é que devemos chamar as funções diretamente da classe, sem criar um objeto."
   ]
  },
  {
   "cell_type": "code",
   "execution_count": 1,
   "metadata": {},
   "outputs": [],
   "source": [
    "class Calculadora:\n",
    "    @classmethod\n",
    "    def soma(cls, num1, num2):\n",
    "        return num1 + num2\n",
    "    \n",
    "    @classmethod\n",
    "    def subtracao(cls, num1, num2):\n",
    "        return num1-num2\n",
    "    \n",
    "    @classmethod\n",
    "    def divisao(cls,num1, num2):\n",
    "        return num1/num2\n",
    "    \n",
    "    @classmethod\n",
    "    def multiplicacao(cls, num1, num2):\n",
    "        return num1*num2"
   ]
  },
  {
   "cell_type": "markdown",
   "metadata": {},
   "source": [
    "Uma empresa está começando a criar um cadastro de pessoas que trabalham na empresa, e quer dividir essas pessoas em categorias: PessoaMensalista, PessoaHorista e PessoaSemApontamento. A pessoa mensalista tem um salário fixo por mês, dependendo da quantidade de horas trabalhadas; a pessoa horista recebe por hora trabalhada e a pessoa sem apontamento recebe um salario mensal independente de horas trabalhadas.\n",
    "\n",
    "Codifique uma estrutura de classes onde a pessoa tem nome e idade, a pessoa mensalista tem total_horas_trabalhadas e  valor_salario, pessoa horista tem total_horas_trabalhadas e valor_hora, e pessoa sem apontamento tem valor_salario.\n",
    "\n",
    "As três classes devem ter o método calcular_salario, de acordo com as regras:\n",
    "\n",
    "Se pessoa mensalista, o valor de salario é proporcional ao numero de horas trabalhadas até 160 horas. Se trabalhou mais de 160, o valor é o teto (ou seja, o valor do salário),\n",
    "se pessoa horista, multiplicar o total de horas pelo valor por hora, e\n",
    "se pessoa sem apontamento, mostrar o salário como informado.\n",
    "O retorno do método calcular_salario deve ser:\n",
    "\n",
    "\"A pessoa de nome {nome} tem a receber R$ {salario}\""
   ]
  },
  {
   "cell_type": "code",
   "execution_count": 3,
   "metadata": {},
   "outputs": [],
   "source": [
    "class PessoaHorista:\n",
    "\tdef __init__(self, nome, idade, total_horas_trabalhadas, valor_hora):\n",
    "\t\tself.nome = nome\n",
    "\t\tself.idade = idade\n",
    "\t\tself.total_horas_trabalhadas = total_horas_trabalhadas\n",
    "\t\tself.valor_hora = valor_hora\n",
    "\n",
    "\tdef calcular_salario(self):\n",
    "\t\treturn f\"A pessoa de nome {self.nome} tem a receber R$ {self.valor_hora*self.total_horas_trabalhadas}\"\n",
    "\n",
    "class PessoaMensalista:\n",
    "\tdef __init__(self, nome, idade, total_horas_trabalhadas, valor_salario):\n",
    "\t\tself.nome = nome\n",
    "\t\tself.idade = idade\n",
    "\t\tself.total_horas_trabalhadas = total_horas_trabalhadas\n",
    "\t\tself.valor_salario = valor_salario\n",
    "\t\t\n",
    "\tdef calcular_salario(self):\n",
    "\t\tif self.total_horas_trabalhadas <= 160:\n",
    "\t\t\treturn f\"A pessoa de nome {self.nome} tem a receber R$ {(self.valor_salario/160)*self.total_horas_trabalhadas}\"\n",
    "\t\telse:\n",
    "\t\t\treturn f\"A pessoa de nome {self.nome} tem a receber R$ {self.valor_salario}\"\n",
    "\n",
    "class PessoaSemApontamento:\n",
    "\tdef __init__(self, nome, idade, valor_salario):\n",
    "\t\tself.nome = nome\n",
    "\t\tself.idade = idade\n",
    "\t\tself.valor_salario = valor_salario\n",
    "\t\t\n",
    "\tdef calcular_salario(self):\n",
    "\t\treturn f\"A pessoa de nome {self.nome} tem a receber R$ {self.valor_salario}\""
   ]
  },
  {
   "cell_type": "markdown",
   "metadata": {},
   "source": [
    "Para o cadastro de um cliente (objeto Cliente), precisamos dos seguintes dados:\n",
    "\n",
    "nome\\\n",
    "sobrenome\\\n",
    "idade\n",
    "\n",
    "Alem desses dados, devemos entregar mais dois campos extras, que devem ser acessados como campos do objeto, e não como um método:\n",
    "\n",
    "nome_completo: junção de nome e sobrenome\\\n",
    "endereco_email: no formato \"{nome}.{sobrenome}@minhaempresa.com\", com todas as letras em minusculo.\\\n",
    "maior_de_idade: True se maior ou igual a 18, ou False"
   ]
  },
  {
   "cell_type": "code",
   "execution_count": 5,
   "metadata": {},
   "outputs": [],
   "source": [
    "class Cliente:\n",
    "    def __init__(self, nome, sobrenome, idade):\n",
    "        self.nome = nome\n",
    "        self.sobrenome = sobrenome\n",
    "        self.idade = idade\n",
    "\n",
    "    @property\n",
    "    def nome_completo(self):\n",
    "        return f\"{self.nome} {self.sobrenome}\"\n",
    "    \n",
    "    @property\n",
    "    def endereco_email(self):\n",
    "        return f\"{self.nome.lower()}.{self.sobrenome.lower()}@minhaempresa.com\"\n",
    "    \n",
    "    @property\n",
    "    def maior_de_idade(self):\n",
    "        return True if self.idade >=18 else False\n",
    "        "
   ]
  },
  {
   "cell_type": "markdown",
   "metadata": {},
   "source": [
    "Um professor desafiou os alunos a criar uma classe Ponto que define um ponto cartesiano (com valores de x e y), e que seja possível, usando o operador de - (menos), calcular a distância entre dois pontos.\n",
    "\n",
    "A fórmula da distância entre dois pontos é: elevar ao quadrado a diferença entre as coordenadas x, somar com o quadrado da diferenca das coordenadas do ponto y, e obter a raiz quadrada desse valor; ou, em notação matemática:\n",
    "\n",
    "√((x2 - x1)² + (y2 - y1)²)"
   ]
  },
  {
   "cell_type": "code",
   "execution_count": 6,
   "metadata": {},
   "outputs": [],
   "source": [
    "import math\n",
    "\n",
    "class Ponto:\n",
    "    def __init__(self, x1, y1):\n",
    "        self.x1 = x1\n",
    "        self.y1 = y1\n",
    "\n",
    "    def calculo(self, outrox, outroy):\n",
    "        return math.sqrt((outrox-self.x1)**2 + (outroy-self.y1)**2)"
   ]
  },
  {
   "cell_type": "markdown",
   "metadata": {},
   "source": [
    "Criar uma classe que, no momento da instanciação, receba o nome de uma pessoa e, ao chamar a funcao falar_bom_dia, retorne o texto \"Bom dia, < nome da pessoa>\"."
   ]
  },
  {
   "cell_type": "code",
   "execution_count": null,
   "metadata": {},
   "outputs": [],
   "source": [
    "class Saudacao:\n",
    "\tdef __init__(self, nome):\n",
    "\t\tself.nome = nome\n",
    "\n",
    "\tdef falar_bom_dia(self):\n",
    "\t\treturn f'Bom dia, {self.nome}'"
   ]
  },
  {
   "cell_type": "markdown",
   "metadata": {},
   "source": [
    "Uma empresa está criando um sistema para transportar Objetos em Caixas. A ideia é criar uma Caixa com a quantidade máxima de Objetos definida no momento da criação do objeto (com o parametro qtd_max_objetos) e, posteriormente, adicionar cada Objeto através do método adicionar_objeto.\n",
    "\n",
    "Caso tente adicionar um novo Objeto na Caixa e esta já estiver cheia, deve retornar False, caso contrário retornar True.\n",
    "\n",
    "Uma vez que a Caixa é criada, deve ser possivel receber uma listagem simples, em texto, com o nome de todos os itens armazenados, em ordem alfabética, um por linha, usando o método listar_itens.\n",
    "\n",
    "A classe Objeto tem os campos nome e tipo, e a classe Caixa tem o campo qtd_max_objetos."
   ]
  },
  {
   "cell_type": "code",
   "execution_count": 10,
   "metadata": {},
   "outputs": [],
   "source": [
    "class Objeto:\n",
    "    def __init__(self, nome, tipo):\n",
    "        self.nome = nome\n",
    "        self.tipo = tipo\n",
    "        \n",
    "class Caixa:\n",
    "    def __init__(self, qtd_max_objetos):\n",
    "        self.qtd_max_objetos = qtd_max_objetos\n",
    "        self.objetos = []\n",
    "\n",
    "    def adicionar_objeto(self, objeto):\n",
    "        #self.objetos.append(objeto)\n",
    "        if len(self.objetos) < self.qtd_max_objetos:\n",
    "            self.objetos.append(objeto)\n",
    "            return True\n",
    "        else:\n",
    "            return False\n",
    "\n",
    "    def listar_itens(self):\n",
    "        nomes = sorted([objeto.nome for objeto in self.objetos])\n",
    "        return '\\n'.join(nomes)"
   ]
  },
  {
   "cell_type": "markdown",
   "metadata": {},
   "source": [
    "Crie uma classe de nome Turma que deve receber o nome da turma no momento da instanciação, e tem os métodos adicionar_pessoa, que adiciona o nome de uma pessoa à turma, e o método mostrar_turma que retorna uma tupla com as pessoas adicionadas à turma, em ordem alfabética."
   ]
  },
  {
   "cell_type": "code",
   "execution_count": 14,
   "metadata": {},
   "outputs": [],
   "source": [
    "class Turma:\n",
    "\tdef __init__(self, nome):\n",
    "\t\tself.nome = nome\n",
    "\t\tself.turma = []\n",
    "\n",
    "\tdef adicionar_pessoa(self, nome_aluno):\n",
    "\t\tself.turma.append(nome_aluno)\n",
    "\t\n",
    "\tdef mostrar_turma(self):\n",
    "\t\treturn tuple(sorted(self.turma))"
   ]
  },
  {
   "cell_type": "code",
   "execution_count": 11,
   "metadata": {},
   "outputs": [
    {
     "name": "stdout",
     "output_type": "stream",
     "text": [
      "2024-10-11\n"
     ]
    }
   ],
   "source": [
    "from datetime import date\n",
    "\n",
    "hoje = date.today()\n",
    "print(hoje)"
   ]
  },
  {
   "cell_type": "markdown",
   "metadata": {},
   "source": [
    "Uma professora cansou de fazer o cálculo das notas dos estudantes manualmente, e pediu ajuda a você para fazer isso.\n",
    "\n",
    "Ela quer uma classe Estudante que receba o nome do estudante, e quer um método adicionar_notas onde ela entre com uma lista de quatro notas deste estudante, no formato float, e consiga obter a média deste estudante, usando o método obter_media. Se a quantidade de notas for diferente de 4 ou alguma das notas informadas não estiver no formato de float, deve retornar um erro QuantidadeErradaNotasError\n",
    "\n",
    "Mas, além disso, ela quer uma classe Turma, que tem um nome, e que agrupa todos os estudantes no campo estudantes do objeto, e onde ela quer os dados dos estudantes como um dicionário no formato\n",
    "\n",
    "{\n",
    "    \"nro_matricula\": 123,\n",
    "    \"estudante\": objeto Estudante\n",
    "}\n",
    "\n",
    "E para adicionar o estudante na turma, ela quer o método adicionar_estudante, que recebe dois valores, a matrícula e os dados de estudante. Se já houver um estudante com o número de matrícula, deve retornar o erro EstudanteJaRegistradoError\n",
    "\n",
    "E ela quer, ainda, um método onde ela passe o número da avaliação (1, 2, 3 ou 4) e retorne a média de nota dos alunos nessa avaliação. Foi definido que este método de Turma será chamado obter_media_prova."
   ]
  },
  {
   "cell_type": "code",
   "execution_count": null,
   "metadata": {},
   "outputs": [],
   "source": [
    "class QuantidadeErradaNotasError:\n",
    "\tpass\n",
    "\n",
    "class EstudanteJaRegistradoError:\n",
    "\tpass\n",
    "\n",
    "class Estudante:\n",
    "\tpass\n",
    "\n",
    "class Turma:\n",
    "\tpass"
   ]
  }
 ],
 "metadata": {
  "kernelspec": {
   "display_name": "Python 3",
   "language": "python",
   "name": "python3"
  },
  "language_info": {
   "codemirror_mode": {
    "name": "ipython",
    "version": 3
   },
   "file_extension": ".py",
   "mimetype": "text/x-python",
   "name": "python",
   "nbconvert_exporter": "python",
   "pygments_lexer": "ipython3",
   "version": "3.12.2"
  }
 },
 "nbformat": 4,
 "nbformat_minor": 2
}
